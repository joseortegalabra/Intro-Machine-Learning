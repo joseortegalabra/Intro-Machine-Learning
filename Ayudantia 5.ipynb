{
 "cells": [
  {
   "cell_type": "markdown",
   "metadata": {},
   "source": [
    "# Linear Regression"
   ]
  },
  {
   "cell_type": "markdown",
   "metadata": {},
   "source": [
    "$$ \\hat{y} = \\hat{\\theta}_{0} + \\hat{\\theta}_{1}x_{1} + ... + \\hat{\\theta}_{n}x_{n}$$\n",
    "\n",
    "Or the vectorized form:\n",
    "\n",
    "$$ \\hat{y} = h_{\\theta}(x) = \\theta^{T}x$$\n",
    "\n",
    "where:\n",
    "\n",
    "$\\theta$ is the parameter vector.\n",
    "\n",
    "$x$ is the instance's feature vector.\n",
    "\n",
    "$h_{\\theta}$ is the hypothesis function.\n"
   ]
  },
  {
   "cell_type": "code",
   "execution_count": null,
   "metadata": {},
   "outputs": [],
   "source": []
  },
  {
   "cell_type": "markdown",
   "metadata": {},
   "source": [
    "We want to select (fit) the parameters $\\theta$ so that the model best fits the training set."
   ]
  },
  {
   "cell_type": "markdown",
   "metadata": {},
   "source": [
    "## Least Squares Regression"
   ]
  },
  {
   "cell_type": "markdown",
   "metadata": {},
   "source": [
    "The most common performance measure of a regression model is the Root Mean Square Error (RMSE). Therefore, to train a Linear Regression model, you need to find the value of $\\theta$ that minimizes the RMSE. In practice, it is simpler to minimize the Mean Square Error (MSE) than the RMSE, and it leads to the same result (because the value that minimizes a function also minimizes its square root).\n",
    "\n",
    "$$RMSE = \\sqrt{\\frac{1}{m}\\sum_{i=1}^{m}(h_{\\theta}(x^{(i)})- y^{(i)})^{2}}$$\n",
    "\n",
    "$$MSE = \\frac{1}{m}\\sum_{i=1}^{m}(h_{\\theta}(x^{(i)})- y^{(i)})^{2}$$\n",
    "\n",
    "For the linear regression model:\n",
    "\n",
    "$$J(\\theta) = MSE = \\frac{1}{m}\\sum_{i=1}^{m}(\\theta^{T}x^{(i)}- y^{(i)})^{2}$$"
   ]
  },
  {
   "cell_type": "markdown",
   "metadata": {},
   "source": [
    "### The Normal Equation\n",
    "\n",
    "$$\\hat{\\theta} = (X^{T}X)^{-1}X^{T}y$$"
   ]
  },
  {
   "cell_type": "code",
   "execution_count": 2,
   "metadata": {
    "scrolled": true
   },
   "outputs": [],
   "source": [
    "import numpy as np\n",
    "import pandas as pd\n",
    "import matplotlib.pyplot as plt\n",
    "import seaborn as sns; sns.set()\n",
    "\n",
    "X = np.random.randn(100, 1)\n",
    "y = 4 + 3 * X + np.random.randn(100, 1)\n",
    "\n",
    "plt.figure(figsize=(16, 9))\n",
    "plt.scatter(X, y);"
   ]
  },
  {
   "cell_type": "code",
   "execution_count": 3,
   "metadata": {},
   "outputs": [
    {
     "name": "stdout",
     "output_type": "stream",
     "text": [
      "Estimated Coefficients: \n",
      "[[4.06904297]\n",
      " [3.1220993 ]]\n",
      "[[4.06904297]\n",
      " [3.1220993 ]]\n"
     ]
    }
   ],
   "source": [
    "X_aug = np.concatenate((np.ones((100, 1)), X), axis=1)\n",
    "theta = np.linalg.inv(X_aug.T @ X_aug) @ X_aug.T @ y\n",
    "\n",
    "print(\"Estimated Coefficients: \\n{}\".format(theta))\n",
    "print(theta)"
   ]
  },
  {
   "cell_type": "code",
   "execution_count": 4,
   "metadata": {},
   "outputs": [
    {
     "data": {
      "image/png": "[encoded data removed]",
      "text/plain": [
       "<Figure size 432x288 with 1 Axes>"
      ]
     },
     "metadata": {
      "needs_background": "light"
     },
     "output_type": "display_data"
    }
   ],
   "source": [
    "y_pred = X_aug @ theta\n",
    "plt.scatter(X, y)\n",
    "plt.plot(X, y_pred);"
   ]
  },
  {
   "cell_type": "code",
   "execution_count": 5,
   "metadata": {},
   "outputs": [
    {
     "data": {
      "text/html": [
       "<table class=\"simpletable\">\n",
       "<caption>OLS Regression Results</caption>\n",
       "<tr>\n",
       "  <th>Dep. Variable:</th>            <td>y</td>        <th>  R-squared:         </th> <td>   0.889</td>\n",
       "</tr>\n",
       "<tr>\n",
       "  <th>Model:</th>                   <td>OLS</td>       <th>  Adj. R-squared:    </th> <td>   0.888</td>\n",
       "</tr>\n",
       "<tr>\n",
       "  <th>Method:</th>             <td>Least Squares</td>  <th>  F-statistic:       </th> <td>   784.7</td>\n",
       "</tr>\n",
       "<tr>\n",
       "  <th>Date:</th>             <td>Mon, 21 Oct 2019</td> <th>  Prob (F-statistic):</th> <td>1.43e-48</td>\n",
       "</tr>\n",
       "<tr>\n",
       "  <th>Time:</th>                 <td>03:54:23</td>     <th>  Log-Likelihood:    </th> <td> -149.00</td>\n",
       "</tr>\n",
       "<tr>\n",
       "  <th>No. Observations:</th>      <td>   100</td>      <th>  AIC:               </th> <td>   302.0</td>\n",
       "</tr>\n",
       "<tr>\n",
       "  <th>Df Residuals:</th>          <td>    98</td>      <th>  BIC:               </th> <td>   307.2</td>\n",
       "</tr>\n",
       "<tr>\n",
       "  <th>Df Model:</th>              <td>     1</td>      <th>                     </th>     <td> </td>   \n",
       "</tr>\n",
       "<tr>\n",
       "  <th>Covariance Type:</th>      <td>nonrobust</td>    <th>                     </th>     <td> </td>   \n",
       "</tr>\n",
       "</table>\n",
       "<table class=\"simpletable\">\n",
       "<tr>\n",
       "    <td></td>       <th>coef</th>     <th>std err</th>      <th>t</th>      <th>P>|t|</th>  <th>[0.025</th>    <th>0.975]</th>  \n",
       "</tr>\n",
       "<tr>\n",
       "  <th>const</th> <td>    4.0690</td> <td>    0.108</td> <td>   37.516</td> <td> 0.000</td> <td>    3.854</td> <td>    4.284</td>\n",
       "</tr>\n",
       "<tr>\n",
       "  <th>x1</th>    <td>    3.1221</td> <td>    0.111</td> <td>   28.013</td> <td> 0.000</td> <td>    2.901</td> <td>    3.343</td>\n",
       "</tr>\n",
       "</table>\n",
       "<table class=\"simpletable\">\n",
       "<tr>\n",
       "  <th>Omnibus:</th>       <td>11.587</td> <th>  Durbin-Watson:     </th> <td>   1.735</td>\n",
       "</tr>\n",
       "<tr>\n",
       "  <th>Prob(Omnibus):</th> <td> 0.003</td> <th>  Jarque-Bera (JB):  </th> <td>  13.611</td>\n",
       "</tr>\n",
       "<tr>\n",
       "  <th>Skew:</th>          <td>-0.640</td> <th>  Prob(JB):          </th> <td> 0.00111</td>\n",
       "</tr>\n",
       "<tr>\n",
       "  <th>Kurtosis:</th>      <td> 4.276</td> <th>  Cond. No.          </th> <td>    1.03</td>\n",
       "</tr>\n",
       "</table><br/><br/>Warnings:<br/>[1] Standard Errors assume that the covariance matrix of the errors is correctly specified."
      ],
      "text/plain": [
       "<class 'statsmodels.iolib.summary.Summary'>\n",
       "\"\"\"\n",
       "                            OLS Regression Results                            \n",
       "==============================================================================\n",
       "Dep. Variable:                      y   R-squared:                       0.889\n",
       "Model:                            OLS   Adj. R-squared:                  0.888\n",
       "Method:                 Least Squares   F-statistic:                     784.7\n",
       "Date:                Mon, 21 Oct 2019   Prob (F-statistic):           1.43e-48\n",
       "Time:                        03:54:23   Log-Likelihood:                -149.00\n",
       "No. Observations:                 100   AIC:                             302.0\n",
       "Df Residuals:                      98   BIC:                             307.2\n",
       "Df Model:                           1                                         \n",
       "Covariance Type:            nonrobust                                         \n",
       "==============================================================================\n",
       "                 coef    std err          t      P>|t|      [0.025      0.975]\n",
       "------------------------------------------------------------------------------\n",
       "const          4.0690      0.108     37.516      0.000       3.854       4.284\n",
       "x1             3.1221      0.111     28.013      0.000       2.901       3.343\n",
       "==============================================================================\n",
       "Omnibus:                       11.587   Durbin-Watson:                   1.735\n",
       "Prob(Omnibus):                  0.003   Jarque-Bera (JB):               13.611\n",
       "Skew:                          -0.640   Prob(JB):                      0.00111\n",
       "Kurtosis:                       4.276   Cond. No.                         1.03\n",
       "==============================================================================\n",
       "\n",
       "Warnings:\n",
       "[1] Standard Errors assume that the covariance matrix of the errors is correctly specified.\n",
       "\"\"\""
      ]
     },
     "execution_count": 5,
     "metadata": {},
     "output_type": "execute_result"
    }
   ],
   "source": [
    "import statsmodels.api as sm   #estimar con una librreria lo hecho antes de forma manual\n",
    "\n",
    "X_aug = sm.add_constant(X)\n",
    "model = sm.OLS(y, X_aug).fit()  #osl orginary least square\n",
    "y_pred = model.predict(X_aug)\n",
    "model.summary()\n",
    "\n",
    "#aic bic, algo de calce y bayesiano"
   ]
  },
  {
   "cell_type": "code",
   "execution_count": 6,
   "metadata": {},
   "outputs": [
    {
     "name": "stdout",
     "output_type": "stream",
     "text": [
      "[5.]\n",
      "[[2.]]\n"
     ]
    }
   ],
   "source": [
    "from sklearn.linear_model import LinearRegression   #prueba exacta\n",
    "import numpy as np\n",
    "X = np.array([[1], [2], [0]])\n",
    "y = np.array([[7], [9], [5]])\n",
    "model = LinearRegression()\n",
    "model.fit(X, y) \n",
    "\n",
    "print(model.intercept_)\n",
    "print(model.coef_)\n",
    "\n"
   ]
  },
  {
   "cell_type": "code",
   "execution_count": 7,
   "metadata": {},
   "outputs": [
    {
     "name": "stdout",
     "output_type": "stream",
     "text": [
      "[5.]\n",
      "[[2.]]\n"
     ]
    },
    {
     "data": {
      "image/png": "[encoded data removed]",
      "text/plain": [
       "<Figure size 432x288 with 1 Axes>"
      ]
     },
     "metadata": {
      "needs_background": "light"
     },
     "output_type": "display_data"
    }
   ],
   "source": [
    "from sklearn.linear_model import LinearRegression   #skearlar liberia gigante e importamos la funcion que queremos\n",
    "\n",
    "model = LinearRegression()\n",
    "model.fit(X, y) #importo la clase del modelo que quiero estimar, instancio el modelo\n",
    "\n",
    "print(model.intercept_)\n",
    "print(model.coef_)\n",
    "\n",
    "y_pred = model.predict(X)  #y_pred es mi linea recta de la regresion lineal\n",
    "\n",
    "plt.scatter(X, y)   #aqui se pasa x y\n",
    "                    #no aumento la matriz, skelar lo hace por si solo, agrega solo la columna de 1 al inicio\n",
    "plt.plot(X, y_pred);\n",
    "#todos los datos centrados, no me interesa estimar el intercepto\n",
    "#devueleve el intercepto y los coeficientes"
   ]
  },
  {
   "cell_type": "markdown",
   "metadata": {},
   "source": [
    "### Gradient Descent Regression"
   ]
  },
  {
   "cell_type": "code",
   "execution_count": 8,
   "metadata": {},
   "outputs": [
    {
     "data": {
      "text/plain": [
       "<matplotlib.colorbar.Colorbar at 0x1fb0134cd68>"
      ]
     },
     "execution_count": 8,
     "metadata": {},
     "output_type": "execute_result"
    },
    {
     "data": {
      "image/png": "[encoded data removed]",
      "text/plain": [
       "<Figure size 432x288 with 2 Axes>"
      ]
     },
     "metadata": {
      "needs_background": "light"
     },
     "output_type": "display_data"
    }
   ],
   "source": [
    "X = np.random.randn(100, 1)\n",
    "y = 4 + 3 * X + np.random.randn(100, 1)\n",
    "\n",
    "m, n = X.shape\n",
    "\n",
    "theta0 = np.linspace(0, 8, 1000)\n",
    "theta1 = np.linspace(0, 6, 1000)\n",
    "Theta0, Theta1 = np.meshgrid(theta0, theta1)\n",
    "\n",
    "J = (np.array([Theta0  + Theta1 * X[i, 0] - y[i] for i in range(m)]) ** 2).mean(axis=0)\n",
    "\n",
    "plt.contourf(Theta0, Theta1, J, 50, cmap='viridis')\n",
    "plt.colorbar()\n",
    "\n",
    "#morado el valor mas bajo, ahi quiero llegar, 4,3 el valor de original\n",
    "#tiene solucion exacta por tener forma de vaso.\n",
    "#metodo: calcular el gradiente de la funcion de costos, que esta abajo, significa hacia donde crece la funcion y entonces\n",
    "#ghacia donde nos movemos, estamos en el 0.0 y queremos movernos, cuanto nos movemos de acuerdo al parametro alfa\n",
    "#negativo porque queremos alejarnos del lado donde crece\n",
    "#depende de la cantidad de paso de pasos que le damos y la distancia que se va moviendo"
   ]
  },
  {
   "cell_type": "markdown",
   "metadata": {},
   "source": [
    "Gradient:\n",
    "\n",
    "$$\\nabla_{\\theta} MSE =\\frac{2}{m}X^{T}(X\\theta - y)$$\n",
    "\n",
    "Update Rule:\n",
    " \n",
    "$$\\theta^{\\ next \\ step}:= \\theta - \\alpha \\nabla_{\\theta} MSE$$"
   ]
  },
  {
   "cell_type": "code",
   "execution_count": 12,
   "metadata": {},
   "outputs": [],
   "source": [
    "X = np.random.randn(100, 1)\n",
    "y = 4 + 3 * X + np.random.randn(100, 1)"
   ]
  },
  {
   "cell_type": "code",
   "execution_count": 36,
   "metadata": {},
   "outputs": [
    {
     "name": "stdout",
     "output_type": "stream",
     "text": [
      "Final Parameters: \n",
      " [[4.00889343]\n",
      " [3.11899043]]\n"
     ]
    },
    {
     "data": {
      "image/png": "[encoded data removed]",
      "text/plain": [
       "<Figure size 432x288 with 1 Axes>"
      ]
     },
     "metadata": {
      "needs_background": "light"
     },
     "output_type": "display_data"
    }
   ],
   "source": [
    "def linear_reg_gd(X, y, learning_rate=0.01, steps=100):\n",
    "    m, n = X.shape\n",
    "    \n",
    "    X_aug = np.concatenate((np.ones((m, 1)), X), axis=1)  #guardar dimensiones de la matriz para aumentarla\n",
    "\n",
    "    #theta = np.random.randn(2, 1)\n",
    "    theta = np.array([[1.1],[1.1]])\n",
    "    \n",
    "    fig, ax = plt.subplots()\n",
    "    ax.scatter(X, y)\n",
    "\n",
    "    for i in range(steps):\n",
    "        theta -= learning_rate * (2 / m) * X_aug.T @ (X_aug @ theta - y)   #actualizacion del parametro\n",
    "        y_pred = X_aug @ theta   #me muevo de un conjunto de parametro hacia otro y predigo el valor\n",
    "\n",
    "        if i // (steps // 10) == 0:\n",
    "            ax.plot(X_aug[:, 1], y_pred, color='green', alpha=0.3)\n",
    "    print('Final Parameters: \\n {}'.format(theta))\n",
    "    #grafico de 10 curvas y como nos vamos acercando a la solucion\n",
    "    #graficamente se ve que nunca se llega a la solucion lineal exacta estimada anteriormente\n",
    "    \n",
    "\n",
    "\n",
    "linear_reg_gd(X, y, learning_rate=0.1)\n",
    "#linear_reg_gd(X, y, learning_rate=0.1, steps = 200)\n",
    "#avanza mas lento hacia el minimo de la funcion al acercarse\n",
    "#si step es muy grande no puedo llegarr con la fineza necesaria al valor que quiero llegar"
   ]
  },
  {
   "cell_type": "code",
   "execution_count": 14,
   "metadata": {},
   "outputs": [
    {
     "name": "stderr",
     "output_type": "stream",
     "text": [
      "C:\\Users\\joseo\\Anaconda3\\lib\\site-packages\\sklearn\\linear_model\\stochastic_gradient.py:183: FutureWarning: max_iter and tol parameters have been added in SGDRegressor in 0.19. If max_iter is set but tol is left unset, the default value for tol in 0.19 and 0.20 will be None (which is equivalent to -infinity, so it has no effect) but will change in 0.21 to 1e-3. Specify tol to silence this warning.\n",
      "  FutureWarning)\n",
      "C:\\Users\\joseo\\Anaconda3\\lib\\site-packages\\sklearn\\utils\\validation.py:761: DataConversionWarning: A column-vector y was passed when a 1d array was expected. Please change the shape of y to (n_samples, ), for example using ravel().\n",
      "  y = column_or_1d(y, warn=True)\n"
     ]
    },
    {
     "data": {
      "image/png": "[encoded data removed]",
      "text/plain": [
       "<Figure size 432x288 with 1 Axes>"
      ]
     },
     "metadata": {
      "needs_background": "light"
     },
     "output_type": "display_data"
    }
   ],
   "source": [
    "from sklearn.linear_model import SGDRegressor\n",
    "\n",
    "model = SGDRegressor(penalty=None, learning_rate='constant', eta0=0.01, max_iter=100, verbose=0)\n",
    "model.fit(X, y)\n",
    "y_pred = model.predict(X)\n",
    "\n",
    "#se puede hacer learning rate valla decreciendo a medida que se va iterando\n",
    "#eta valor real del learing rate\n",
    "#verbose con 0 me estima el modelo, sin hacer print de nada, si pongo 1 me imprime todo\n",
    "\n",
    "plt.scatter(X, y)\n",
    "plt.plot(X, y_pred, color='green');"
   ]
  },
  {
   "cell_type": "markdown",
   "metadata": {},
   "source": [
    "## Ridge Regression"
   ]
  },
  {
   "cell_type": "markdown",
   "metadata": {},
   "source": [
    "Ridge Regression(also called Tikhonov regularization) is a regularized version of Linear Regression: a regularization term is added to the cost function. This forces the learning algorithm to not only fit the data but also keep the model weights as small as possible. Note that the regularization term should only be added to the cost function during training. Once the model is trained, you want to evaluate the model’s performance using the unregularized performance measure.\n",
    "\n",
    "$$min \\ J(\\theta) = \\frac{1}{m}\\sum_{i=1}^{m}(\\theta^{T}x^{(i)}- y^{(i)})^{2}$$\n",
    "\n",
    "$subject \\ to$\n",
    "\n",
    "$$\\sum_{j=1}^{n}\\theta_{j}^{2} \\leq t$$\n",
    "\n",
    "Cost Function:\n",
    "\n",
    "$$min \\ J(\\theta) = \\frac{1}{m}\\sum_{i=1}^{m}(\\theta^{T}x^{(i)}- y^{(i)})^{2} + \\alpha \\sum_{j=1}^{n}\\theta_{j}^{2}$$"
   ]
  },
  {
   "cell_type": "markdown",
   "metadata": {},
   "source": [
    "Closed Form\n",
    "\n",
    "$$\\theta = (X^{T} X + \\alpha A)^{-1} X^{T}y$$\n",
    "\n",
    "$A$: is the $(n \\ x \\ n)$ identity matrix with a $0$ in the top left corner."
   ]
  },
  {
   "cell_type": "code",
   "execution_count": 15,
   "metadata": {},
   "outputs": [
    {
     "name": "stdout",
     "output_type": "stream",
     "text": [
      "Final Parameters: \n",
      " [[3.85439134]\n",
      " [2.8133391 ]]\n"
     ]
    }
   ],
   "source": [
    "def ridge_reg(X, y, reg=1):\n",
    "    m, n = X.shape\n",
    "    \n",
    "    X_aug = np.concatenate((np.ones((m, 1)), X), axis=1)\n",
    "    \n",
    "    A = np.eye(n+1)\n",
    "    A[0, 0] = 0\n",
    "    \n",
    "    theta = np.linalg.inv(X_aug.T @ X_aug + reg * A) @ X_aug.T @ y\n",
    "    \n",
    "    y_pred = X_aug @ theta\n",
    "    \n",
    "    print('Final Parameters: \\n {}'.format(theta))\n",
    "    \n",
    "X = np.random.randn(100, 1)\n",
    "y = 4 + 3 * X + np.random.randn(100, 1)\n",
    "    \n",
    "ridge_reg(X, y, reg=0.01)\n",
    "#parametros d ela ridge no son los mismo que los de arriba"
   ]
  },
  {
   "cell_type": "code",
   "execution_count": 5,
   "metadata": {},
   "outputs": [
    {
     "name": "stdout",
     "output_type": "stream",
     "text": [
      "[3.8550081] [[3.21466942]]\n"
     ]
    }
   ],
   "source": [
    "from sklearn.linear_model import Ridge #importo la funcion ridge\n",
    "\n",
    "X = np.random.randn(100, 1)\n",
    "y = 4 + 3 * X + np.random.randn(100, 1)\n",
    "\n",
    "model = Ridge(alpha=0.01, )\n",
    "#model.fit(X, y)\n",
    "print(model.intercept_, model.coef_)"
   ]
  },
  {
   "cell_type": "code",
   "execution_count": 17,
   "metadata": {},
   "outputs": [
    {
     "name": "stdout",
     "output_type": "stream",
     "text": [
      "-- Epoch 1\n",
      "Norm: 0.25, NNZs: 1, Bias: 0.303201, T: 100, Avg. loss: 10.064834\n",
      "Total training time: 0.00 seconds.\n",
      "-- Epoch 2\n",
      "Norm: 0.48, NNZs: 1, Bias: 0.583284, T: 200, Avg. loss: 8.638763\n",
      "Total training time: 0.00 seconds.\n",
      "-- Epoch 3\n",
      "Norm: 0.69, NNZs: 1, Bias: 0.841862, T: 300, Avg. loss: 7.425924\n",
      "Total training time: 0.00 seconds.\n",
      "-- Epoch 4\n",
      "Norm: 0.88, NNZs: 1, Bias: 1.081685, T: 400, Avg. loss: 6.394498\n",
      "Total training time: 0.00 seconds.\n",
      "-- Epoch 5\n",
      "Norm: 1.06, NNZs: 1, Bias: 1.304228, T: 500, Avg. loss: 5.517458\n",
      "Total training time: 0.00 seconds.\n",
      "-- Epoch 6\n",
      "Norm: 1.22, NNZs: 1, Bias: 1.510453, T: 600, Avg. loss: 4.770551\n",
      "Total training time: 0.00 seconds.\n",
      "-- Epoch 7\n",
      "Norm: 1.37, NNZs: 1, Bias: 1.700644, T: 700, Avg. loss: 4.135100\n",
      "Total training time: 0.00 seconds.\n",
      "-- Epoch 8\n",
      "Norm: 1.51, NNZs: 1, Bias: 1.876209, T: 800, Avg. loss: 3.594835\n",
      "Total training time: 0.00 seconds.\n",
      "-- Epoch 9\n",
      "Norm: 1.63, NNZs: 1, Bias: 2.038578, T: 900, Avg. loss: 3.135494\n",
      "Total training time: 0.00 seconds.\n",
      "-- Epoch 10\n",
      "Norm: 1.75, NNZs: 1, Bias: 2.189530, T: 1000, Avg. loss: 2.744337\n",
      "Total training time: 0.00 seconds.\n",
      "-- Epoch 11\n",
      "Norm: 1.86, NNZs: 1, Bias: 2.328464, T: 1100, Avg. loss: 2.411518\n",
      "Total training time: 0.00 seconds.\n",
      "-- Epoch 12\n",
      "Norm: 1.95, NNZs: 1, Bias: 2.457066, T: 1200, Avg. loss: 2.128059\n",
      "Total training time: 0.00 seconds.\n",
      "-- Epoch 13\n",
      "Norm: 2.04, NNZs: 1, Bias: 2.576163, T: 1300, Avg. loss: 1.887066\n",
      "Total training time: 0.00 seconds.\n",
      "-- Epoch 14\n",
      "Norm: 2.12, NNZs: 1, Bias: 2.686091, T: 1400, Avg. loss: 1.682260\n",
      "Total training time: 0.00 seconds.\n",
      "-- Epoch 15\n",
      "Norm: 2.20, NNZs: 1, Bias: 2.788083, T: 1500, Avg. loss: 1.507798\n",
      "Total training time: 0.01 seconds.\n",
      "-- Epoch 16\n",
      "Norm: 2.27, NNZs: 1, Bias: 2.881636, T: 1600, Avg. loss: 1.359109\n",
      "Total training time: 0.01 seconds.\n",
      "-- Epoch 17\n",
      "Norm: 2.33, NNZs: 1, Bias: 2.968088, T: 1700, Avg. loss: 1.232817\n",
      "Total training time: 0.01 seconds.\n",
      "-- Epoch 18\n",
      "Norm: 2.39, NNZs: 1, Bias: 3.049053, T: 1800, Avg. loss: 1.125236\n",
      "Total training time: 0.01 seconds.\n",
      "-- Epoch 19\n",
      "Norm: 2.45, NNZs: 1, Bias: 3.123131, T: 1900, Avg. loss: 1.033538\n",
      "Total training time: 0.01 seconds.\n",
      "-- Epoch 20\n",
      "Norm: 2.50, NNZs: 1, Bias: 3.191456, T: 2000, Avg. loss: 0.955658\n",
      "Total training time: 0.01 seconds.\n",
      "-- Epoch 21\n",
      "Norm: 2.54, NNZs: 1, Bias: 3.254633, T: 2100, Avg. loss: 0.889301\n",
      "Total training time: 0.01 seconds.\n",
      "-- Epoch 22\n",
      "Norm: 2.59, NNZs: 1, Bias: 3.312642, T: 2200, Avg. loss: 0.832874\n",
      "Total training time: 0.01 seconds.\n",
      "-- Epoch 23\n",
      "Norm: 2.62, NNZs: 1, Bias: 3.366317, T: 2300, Avg. loss: 0.784985\n",
      "Total training time: 0.01 seconds.\n",
      "-- Epoch 24\n",
      "Norm: 2.66, NNZs: 1, Bias: 3.416020, T: 2400, Avg. loss: 0.744168\n",
      "Total training time: 0.01 seconds.\n",
      "-- Epoch 25\n",
      "Norm: 2.69, NNZs: 1, Bias: 3.461662, T: 2500, Avg. loss: 0.709498\n",
      "Total training time: 0.01 seconds.\n",
      "-- Epoch 26\n",
      "Norm: 2.72, NNZs: 1, Bias: 3.503263, T: 2600, Avg. loss: 0.680066\n",
      "Total training time: 0.01 seconds.\n",
      "-- Epoch 27\n",
      "Norm: 2.75, NNZs: 1, Bias: 3.542735, T: 2700, Avg. loss: 0.654948\n",
      "Total training time: 0.01 seconds.\n",
      "-- Epoch 28\n",
      "Norm: 2.78, NNZs: 1, Bias: 3.579000, T: 2800, Avg. loss: 0.633424\n",
      "Total training time: 0.01 seconds.\n",
      "-- Epoch 29\n",
      "Norm: 2.80, NNZs: 1, Bias: 3.612501, T: 2900, Avg. loss: 0.615116\n",
      "Total training time: 0.01 seconds.\n",
      "-- Epoch 30\n",
      "Norm: 2.82, NNZs: 1, Bias: 3.642949, T: 3000, Avg. loss: 0.599608\n",
      "Total training time: 0.01 seconds.\n",
      "-- Epoch 31\n",
      "Norm: 2.84, NNZs: 1, Bias: 3.671261, T: 3100, Avg. loss: 0.586449\n",
      "Total training time: 0.01 seconds.\n",
      "-- Epoch 32\n",
      "Norm: 2.86, NNZs: 1, Bias: 3.697214, T: 3200, Avg. loss: 0.575280\n",
      "Total training time: 0.01 seconds.\n",
      "-- Epoch 33\n",
      "Norm: 2.88, NNZs: 1, Bias: 3.721101, T: 3300, Avg. loss: 0.565706\n",
      "Total training time: 0.01 seconds.\n",
      "-- Epoch 34\n",
      "Norm: 2.89, NNZs: 1, Bias: 3.743534, T: 3400, Avg. loss: 0.557541\n",
      "Total training time: 0.01 seconds.\n",
      "-- Epoch 35\n",
      "Norm: 2.91, NNZs: 1, Bias: 3.764388, T: 3500, Avg. loss: 0.550562\n",
      "Total training time: 0.01 seconds.\n",
      "-- Epoch 36\n",
      "Norm: 2.92, NNZs: 1, Bias: 3.783536, T: 3600, Avg. loss: 0.544596\n",
      "Total training time: 0.01 seconds.\n",
      "-- Epoch 37\n",
      "Norm: 2.94, NNZs: 1, Bias: 3.800908, T: 3700, Avg. loss: 0.539559\n",
      "Total training time: 0.01 seconds.\n",
      "-- Epoch 38\n",
      "Norm: 2.95, NNZs: 1, Bias: 3.817507, T: 3800, Avg. loss: 0.535318\n",
      "Total training time: 0.01 seconds.\n",
      "-- Epoch 39\n",
      "Norm: 2.96, NNZs: 1, Bias: 3.831760, T: 3900, Avg. loss: 0.531575\n",
      "Total training time: 0.01 seconds.\n",
      "-- Epoch 40\n",
      "Norm: 2.97, NNZs: 1, Bias: 3.845749, T: 4000, Avg. loss: 0.528543\n",
      "Total training time: 0.01 seconds.\n",
      "-- Epoch 41\n",
      "Norm: 2.98, NNZs: 1, Bias: 3.858275, T: 4100, Avg. loss: 0.525915\n",
      "Total training time: 0.01 seconds.\n",
      "-- Epoch 42\n",
      "Norm: 2.98, NNZs: 1, Bias: 3.870151, T: 4200, Avg. loss: 0.523676\n",
      "Total training time: 0.01 seconds.\n",
      "-- Epoch 43\n",
      "Norm: 2.99, NNZs: 1, Bias: 3.881566, T: 4300, Avg. loss: 0.521728\n",
      "Total training time: 0.02 seconds.\n",
      "-- Epoch 44\n",
      "Norm: 3.00, NNZs: 1, Bias: 3.891256, T: 4400, Avg. loss: 0.520073\n",
      "Total training time: 0.02 seconds.\n",
      "-- Epoch 45\n",
      "Norm: 3.01, NNZs: 1, Bias: 3.900893, T: 4500, Avg. loss: 0.518681\n",
      "Total training time: 0.02 seconds.\n",
      "-- Epoch 46\n",
      "Norm: 3.01, NNZs: 1, Bias: 3.910109, T: 4600, Avg. loss: 0.517454\n",
      "Total training time: 0.02 seconds.\n",
      "-- Epoch 47\n",
      "Norm: 3.02, NNZs: 1, Bias: 3.918212, T: 4700, Avg. loss: 0.516446\n",
      "Total training time: 0.02 seconds.\n",
      "-- Epoch 48\n",
      "Norm: 3.02, NNZs: 1, Bias: 3.925147, T: 4800, Avg. loss: 0.515601\n",
      "Total training time: 0.02 seconds.\n",
      "-- Epoch 49\n",
      "Norm: 3.03, NNZs: 1, Bias: 3.931826, T: 4900, Avg. loss: 0.514877\n",
      "Total training time: 0.02 seconds.\n",
      "-- Epoch 50\n",
      "Norm: 3.03, NNZs: 1, Bias: 3.938102, T: 5000, Avg. loss: 0.514263\n",
      "Total training time: 0.02 seconds.\n",
      "-- Epoch 51\n",
      "Norm: 3.03, NNZs: 1, Bias: 3.943554, T: 5100, Avg. loss: 0.513733\n",
      "Total training time: 0.02 seconds.\n",
      "-- Epoch 52\n",
      "Norm: 3.04, NNZs: 1, Bias: 3.948746, T: 5200, Avg. loss: 0.513276\n",
      "Total training time: 0.02 seconds.\n",
      "-- Epoch 53\n",
      "Norm: 3.04, NNZs: 1, Bias: 3.954003, T: 5300, Avg. loss: 0.512875\n",
      "Total training time: 0.02 seconds.\n",
      "-- Epoch 54\n",
      "Norm: 3.04, NNZs: 1, Bias: 3.958628, T: 5400, Avg. loss: 0.512579\n",
      "Total training time: 0.02 seconds.\n",
      "-- Epoch 55\n",
      "Norm: 3.05, NNZs: 1, Bias: 3.962696, T: 5500, Avg. loss: 0.512303\n",
      "Total training time: 0.02 seconds.\n",
      "-- Epoch 56\n",
      "Norm: 3.05, NNZs: 1, Bias: 3.966042, T: 5600, Avg. loss: 0.512044\n",
      "Total training time: 0.02 seconds.\n",
      "-- Epoch 57\n",
      "Norm: 3.05, NNZs: 1, Bias: 3.970002, T: 5700, Avg. loss: 0.511845\n",
      "Total training time: 0.02 seconds.\n",
      "-- Epoch 58\n",
      "Norm: 3.05, NNZs: 1, Bias: 3.973321, T: 5800, Avg. loss: 0.511697\n",
      "Total training time: 0.02 seconds.\n",
      "-- Epoch 59\n",
      "Norm: 3.06, NNZs: 1, Bias: 3.976145, T: 5900, Avg. loss: 0.511545\n",
      "Total training time: 0.02 seconds.\n",
      "-- Epoch 60\n",
      "Norm: 3.06, NNZs: 1, Bias: 3.978566, T: 6000, Avg. loss: 0.511441\n",
      "Total training time: 0.02 seconds.\n",
      "-- Epoch 61\n",
      "Norm: 3.06, NNZs: 1, Bias: 3.981212, T: 6100, Avg. loss: 0.511343\n",
      "Total training time: 0.02 seconds.\n",
      "-- Epoch 62\n",
      "Norm: 3.06, NNZs: 1, Bias: 3.983651, T: 6200, Avg. loss: 0.511243\n",
      "Total training time: 0.02 seconds.\n",
      "-- Epoch 63\n",
      "Norm: 3.06, NNZs: 1, Bias: 3.985681, T: 6300, Avg. loss: 0.511162\n",
      "Total training time: 0.02 seconds.\n",
      "-- Epoch 64\n",
      "Norm: 3.06, NNZs: 1, Bias: 3.987888, T: 6400, Avg. loss: 0.511096\n",
      "Total training time: 0.02 seconds.\n",
      "-- Epoch 65\n",
      "Norm: 3.07, NNZs: 1, Bias: 3.989540, T: 6500, Avg. loss: 0.511041\n",
      "Total training time: 0.02 seconds.\n",
      "-- Epoch 66\n",
      "Norm: 3.07, NNZs: 1, Bias: 3.990830, T: 6600, Avg. loss: 0.510991\n",
      "Total training time: 0.02 seconds.\n",
      "-- Epoch 67\n",
      "Norm: 3.07, NNZs: 1, Bias: 3.991909, T: 6700, Avg. loss: 0.510929\n",
      "Total training time: 0.02 seconds.\n",
      "-- Epoch 68\n",
      "Norm: 3.07, NNZs: 1, Bias: 3.994253, T: 6800, Avg. loss: 0.510874\n",
      "Total training time: 0.02 seconds.\n",
      "-- Epoch 69\n",
      "Norm: 3.07, NNZs: 1, Bias: 3.995433, T: 6900, Avg. loss: 0.510871\n",
      "Total training time: 0.02 seconds.\n",
      "-- Epoch 70\n",
      "Norm: 3.07, NNZs: 1, Bias: 3.996161, T: 7000, Avg. loss: 0.510841\n",
      "Total training time: 0.02 seconds.\n",
      "-- Epoch 71\n",
      "Norm: 3.07, NNZs: 1, Bias: 3.997501, T: 7100, Avg. loss: 0.510849\n",
      "Total training time: 0.02 seconds.\n",
      "-- Epoch 72\n",
      "Norm: 3.07, NNZs: 1, Bias: 3.999058, T: 7200, Avg. loss: 0.510814\n",
      "Total training time: 0.02 seconds.\n",
      "-- Epoch 73\n",
      "Norm: 3.07, NNZs: 1, Bias: 4.000041, T: 7300, Avg. loss: 0.510811\n",
      "Total training time: 0.02 seconds.\n",
      "-- Epoch 74\n",
      "Norm: 3.08, NNZs: 1, Bias: 4.000591, T: 7400, Avg. loss: 0.510756\n",
      "Total training time: 0.02 seconds.\n",
      "-- Epoch 75\n",
      "Norm: 3.07, NNZs: 1, Bias: 4.001900, T: 7500, Avg. loss: 0.510741\n",
      "Total training time: 0.02 seconds.\n",
      "-- Epoch 76\n",
      "Norm: 3.08, NNZs: 1, Bias: 4.003098, T: 7600, Avg. loss: 0.510763\n",
      "Total training time: 0.02 seconds.\n",
      "-- Epoch 77\n",
      "Norm: 3.08, NNZs: 1, Bias: 4.004066, T: 7700, Avg. loss: 0.510762\n",
      "Total training time: 0.02 seconds.\n",
      "-- Epoch 78\n",
      "Norm: 3.08, NNZs: 1, Bias: 4.004165, T: 7800, Avg. loss: 0.510718\n",
      "Total training time: 0.02 seconds.\n",
      "-- Epoch 79\n",
      "Norm: 3.08, NNZs: 1, Bias: 4.004850, T: 7900, Avg. loss: 0.510732\n",
      "Total training time: 0.02 seconds.\n",
      "-- Epoch 80\n",
      "Norm: 3.08, NNZs: 1, Bias: 4.006068, T: 8000, Avg. loss: 0.510717\n",
      "Total training time: 0.02 seconds.\n",
      "-- Epoch 81\n",
      "Norm: 3.08, NNZs: 1, Bias: 4.006103, T: 8100, Avg. loss: 0.510737\n",
      "Total training time: 0.02 seconds.\n",
      "-- Epoch 82\n",
      "Norm: 3.08, NNZs: 1, Bias: 4.006635, T: 8200, Avg. loss: 0.510743\n",
      "Total training time: 0.02 seconds.\n",
      "-- Epoch 83\n",
      "Norm: 3.08, NNZs: 1, Bias: 4.007329, T: 8300, Avg. loss: 0.510724\n",
      "Total training time: 0.02 seconds.\n",
      "-- Epoch 84\n",
      "Norm: 3.08, NNZs: 1, Bias: 4.007396, T: 8400, Avg. loss: 0.510727\n",
      "Total training time: 0.02 seconds.\n",
      "-- Epoch 85\n",
      "Norm: 3.08, NNZs: 1, Bias: 4.007556, T: 8500, Avg. loss: 0.510734\n",
      "Total training time: 0.02 seconds.\n",
      "-- Epoch 86\n",
      "Norm: 3.08, NNZs: 1, Bias: 4.008075, T: 8600, Avg. loss: 0.510729\n",
      "Total training time: 0.03 seconds.\n",
      "-- Epoch 87\n",
      "Norm: 3.08, NNZs: 1, Bias: 4.008750, T: 8700, Avg. loss: 0.510698\n",
      "Total training time: 0.03 seconds.\n",
      "-- Epoch 88\n",
      "Norm: 3.08, NNZs: 1, Bias: 4.008189, T: 8800, Avg. loss: 0.510682\n",
      "Total training time: 0.03 seconds.\n",
      "-- Epoch 89\n",
      "Norm: 3.08, NNZs: 1, Bias: 4.008111, T: 8900, Avg. loss: 0.510727\n",
      "Total training time: 0.03 seconds.\n",
      "-- Epoch 90\n",
      "Norm: 3.08, NNZs: 1, Bias: 4.008702, T: 9000, Avg. loss: 0.510726\n",
      "Total training time: 0.03 seconds.\n",
      "-- Epoch 91\n",
      "Norm: 3.08, NNZs: 1, Bias: 4.009194, T: 9100, Avg. loss: 0.510725\n",
      "Total training time: 0.03 seconds.\n",
      "-- Epoch 92\n",
      "Norm: 3.08, NNZs: 1, Bias: 4.008966, T: 9200, Avg. loss: 0.510718\n",
      "Total training time: 0.03 seconds.\n",
      "-- Epoch 93\n",
      "Norm: 3.08, NNZs: 1, Bias: 4.008898, T: 9300, Avg. loss: 0.510722\n",
      "Total training time: 0.03 seconds.\n",
      "-- Epoch 94\n",
      "Norm: 3.08, NNZs: 1, Bias: 4.009318, T: 9400, Avg. loss: 0.510719\n",
      "Total training time: 0.03 seconds.\n",
      "-- Epoch 95\n",
      "Norm: 3.08, NNZs: 1, Bias: 4.009256, T: 9500, Avg. loss: 0.510715\n",
      "Total training time: 0.03 seconds.\n",
      "-- Epoch 96\n",
      "Norm: 3.08, NNZs: 1, Bias: 4.009201, T: 9600, Avg. loss: 0.510726\n",
      "Total training time: 0.03 seconds.\n",
      "-- Epoch 97\n",
      "Norm: 3.08, NNZs: 1, Bias: 4.009269, T: 9700, Avg. loss: 0.510720\n",
      "Total training time: 0.03 seconds.\n",
      "-- Epoch 98\n",
      "Norm: 3.08, NNZs: 1, Bias: 4.009631, T: 9800, Avg. loss: 0.510715\n",
      "Total training time: 0.03 seconds.\n",
      "-- Epoch 99\n",
      "Norm: 3.08, NNZs: 1, Bias: 4.009395, T: 9900, Avg. loss: 0.510699\n",
      "Total training time: 0.03 seconds.\n",
      "-- Epoch 100\n",
      "Norm: 3.08, NNZs: 1, Bias: 4.009476, T: 10000, Avg. loss: 0.510725\n",
      "Total training time: 0.03 seconds.\n"
     ]
    },
    {
     "name": "stderr",
     "output_type": "stream",
     "text": [
      "C:\\Users\\joseo\\Anaconda3\\lib\\site-packages\\sklearn\\linear_model\\stochastic_gradient.py:183: FutureWarning: max_iter and tol parameters have been added in SGDRegressor in 0.19. If max_iter is set but tol is left unset, the default value for tol in 0.19 and 0.20 will be None (which is equivalent to -infinity, so it has no effect) but will change in 0.21 to 1e-3. Specify tol to silence this warning.\n",
      "  FutureWarning)\n",
      "C:\\Users\\joseo\\Anaconda3\\lib\\site-packages\\sklearn\\utils\\validation.py:761: DataConversionWarning: A column-vector y was passed when a 1d array was expected. Please change the shape of y to (n_samples, ), for example using ravel().\n",
      "  y = column_or_1d(y, warn=True)\n"
     ]
    },
    {
     "data": {
      "image/png": "[encoded data removed]",
      "text/plain": [
       "<Figure size 432x288 with 1 Axes>"
      ]
     },
     "metadata": {
      "needs_background": "light"
     },
     "output_type": "display_data"
    }
   ],
   "source": [
    "from sklearn.linear_model import SGDRegressor\n",
    "\n",
    "model = SGDRegressor(penalty='l2', learning_rate='constant', eta0=0.001, max_iter=100, verbose=1)\n",
    "model.fit(X, y)\n",
    "y_pred = model.predict(X)\n",
    "\n",
    "plt.scatter(X, y)\n",
    "plt.plot(X, y_pred);"
   ]
  },
  {
   "cell_type": "markdown",
   "metadata": {},
   "source": [
    "## Lasso Regression"
   ]
  },
  {
   "cell_type": "markdown",
   "metadata": {},
   "source": [
    "Least Absolute Shrinkage and Selection Operator Regression (simply called Lasso Regression) is another regularized version of Linear Regression: just like Ridge Regression, it adds a regularization term to the cost function, but it uses the ℓ1 norm of the weight vector instead of half the square of the ℓ2 norm.\n",
    "\n",
    "$$min \\ J(\\theta) = \\frac{1}{m}\\sum_{i=1}^{m}(\\theta^{T}x^{(i)}- y^{(i)})^{2}$$\n",
    "\n",
    "$subject \\ to$\n",
    "\n",
    "$$\\sum_{j=1}^{n}|\\theta_{j}| \\leq t$$\n",
    "\n",
    "Cost Function:\n",
    "\n",
    "$$min \\ J(\\theta) = \\frac{1}{m}\\sum_{i=1}^{m}(\\theta^{T}x^{(i)}- y^{(i)})^{2} + \\alpha \\sum_{j=1}^{n}|\\theta_{j}|$$"
   ]
  },
  {
   "cell_type": "markdown",
   "metadata": {},
   "source": [
    "The Lasso cost function is not differentiable at $θ_{i} = 0$ (for i = 1, 2, , n), but Gradient Descent still works fine if you use a subgradient vector g."
   ]
  },
  {
   "cell_type": "code",
   "execution_count": 20,
   "metadata": {},
   "outputs": [
    {
     "name": "stdout",
     "output_type": "stream",
     "text": [
      "Final Parameters: \n",
      " [[1.73657478e-03]\n",
      " [3.02324332e+00]]\n"
     ]
    },
    {
     "data": {
      "image/png": "[encoded data removed]",
      "text/plain": [
       "<Figure size 432x288 with 1 Axes>"
      ]
     },
     "metadata": {
      "needs_background": "light"
     },
     "output_type": "display_data"
    }
   ],
   "source": [
    "def lasso_reg(X, y, learning_rate=0.01, steps=1000, alfa=1):\n",
    "    m, n = X.shape\n",
    "    \n",
    "    X_aug = np.concatenate((np.ones((m, 1)), X), axis=1)\n",
    "\n",
    "    theta = np.random.randn(n + 1, 1)\n",
    "\n",
    "    fig, ax = plt.subplots()\n",
    "    ax.scatter(X, y)\n",
    "\n",
    "    for i in range(steps):\n",
    "        theta -= learning_rate * (2 / m) * X_aug.T @ (X_aug @ theta - y) + alfa * np.sign(theta)\n",
    "        y_pred = X_aug @ theta\n",
    "\n",
    "        if i // (steps // 10) == 0:\n",
    "            ax.plot(X_aug[:, 1], y_pred, color='green', alpha=0.3)\n",
    "    print('Final Parameters: \\n {}'.format(theta))\n",
    "\n",
    "    \n",
    "X = np.random.randn(100, 1)\n",
    "y = 3 * X + np.random.randn(100, 1)\n",
    "    \n",
    "lasso_reg(X, y, alfa=0.001, steps=1000)"
   ]
  },
  {
   "cell_type": "code",
   "execution_count": 21,
   "metadata": {},
   "outputs": [
    {
     "name": "stdout",
     "output_type": "stream",
     "text": [
      "[0.04898635] [2.97185971]\n"
     ]
    }
   ],
   "source": [
    "from sklearn.linear_model import Lasso\n",
    "\n",
    "model = Lasso(alpha=0.1)\n",
    "model.fit(X, y)\n",
    "print(model.intercept_, model.coef_)"
   ]
  },
  {
   "cell_type": "markdown",
   "metadata": {},
   "source": [
    "### Boston Dataset"
   ]
  },
  {
   "cell_type": "code",
   "execution_count": 6,
   "metadata": {
    "scrolled": false
   },
   "outputs": [
    {
     "data": {
      "text/html": [
       "<div>\n",
       "<style scoped>\n",
       "    .dataframe tbody tr th:only-of-type {\n",
       "        vertical-align: middle;\n",
       "    }\n",
       "\n",
       "    .dataframe tbody tr th {\n",
       "        vertical-align: top;\n",
       "    }\n",
       "\n",
       "    .dataframe thead th {\n",
       "        text-align: right;\n",
       "    }\n",
       "</style>\n",
       "<table border=\"1\" class=\"dataframe\">\n",
       "  <thead>\n",
       "    <tr style=\"text-align: right;\">\n",
       "      <th></th>\n",
       "      <th>CRIM</th>\n",
       "      <th>ZN</th>\n",
       "      <th>INDUS</th>\n",
       "      <th>CHAS</th>\n",
       "      <th>NOX</th>\n",
       "      <th>RM</th>\n",
       "      <th>AGE</th>\n",
       "      <th>DIS</th>\n",
       "      <th>RAD</th>\n",
       "      <th>TAX</th>\n",
       "      <th>PTRATIO</th>\n",
       "      <th>B</th>\n",
       "      <th>LSTAT</th>\n",
       "      <th>PRICE</th>\n",
       "    </tr>\n",
       "  </thead>\n",
       "  <tbody>\n",
       "    <tr>\n",
       "      <th>0</th>\n",
       "      <td>0.00632</td>\n",
       "      <td>18.0</td>\n",
       "      <td>2.31</td>\n",
       "      <td>0.0</td>\n",
       "      <td>0.538</td>\n",
       "      <td>6.575</td>\n",
       "      <td>65.2</td>\n",
       "      <td>4.0900</td>\n",
       "      <td>1.0</td>\n",
       "      <td>296.0</td>\n",
       "      <td>15.3</td>\n",
       "      <td>396.90</td>\n",
       "      <td>4.98</td>\n",
       "      <td>24.0</td>\n",
       "    </tr>\n",
       "    <tr>\n",
       "      <th>1</th>\n",
       "      <td>0.02731</td>\n",
       "      <td>0.0</td>\n",
       "      <td>7.07</td>\n",
       "      <td>0.0</td>\n",
       "      <td>0.469</td>\n",
       "      <td>6.421</td>\n",
       "      <td>78.9</td>\n",
       "      <td>4.9671</td>\n",
       "      <td>2.0</td>\n",
       "      <td>242.0</td>\n",
       "      <td>17.8</td>\n",
       "      <td>396.90</td>\n",
       "      <td>9.14</td>\n",
       "      <td>21.6</td>\n",
       "    </tr>\n",
       "    <tr>\n",
       "      <th>2</th>\n",
       "      <td>0.02729</td>\n",
       "      <td>0.0</td>\n",
       "      <td>7.07</td>\n",
       "      <td>0.0</td>\n",
       "      <td>0.469</td>\n",
       "      <td>7.185</td>\n",
       "      <td>61.1</td>\n",
       "      <td>4.9671</td>\n",
       "      <td>2.0</td>\n",
       "      <td>242.0</td>\n",
       "      <td>17.8</td>\n",
       "      <td>392.83</td>\n",
       "      <td>4.03</td>\n",
       "      <td>34.7</td>\n",
       "    </tr>\n",
       "    <tr>\n",
       "      <th>3</th>\n",
       "      <td>0.03237</td>\n",
       "      <td>0.0</td>\n",
       "      <td>2.18</td>\n",
       "      <td>0.0</td>\n",
       "      <td>0.458</td>\n",
       "      <td>6.998</td>\n",
       "      <td>45.8</td>\n",
       "      <td>6.0622</td>\n",
       "      <td>3.0</td>\n",
       "      <td>222.0</td>\n",
       "      <td>18.7</td>\n",
       "      <td>394.63</td>\n",
       "      <td>2.94</td>\n",
       "      <td>33.4</td>\n",
       "    </tr>\n",
       "    <tr>\n",
       "      <th>4</th>\n",
       "      <td>0.06905</td>\n",
       "      <td>0.0</td>\n",
       "      <td>2.18</td>\n",
       "      <td>0.0</td>\n",
       "      <td>0.458</td>\n",
       "      <td>7.147</td>\n",
       "      <td>54.2</td>\n",
       "      <td>6.0622</td>\n",
       "      <td>3.0</td>\n",
       "      <td>222.0</td>\n",
       "      <td>18.7</td>\n",
       "      <td>396.90</td>\n",
       "      <td>5.33</td>\n",
       "      <td>36.2</td>\n",
       "    </tr>\n",
       "  </tbody>\n",
       "</table>\n",
       "</div>"
      ],
      "text/plain": [
       "      CRIM    ZN  INDUS  CHAS    NOX     RM   AGE     DIS  RAD    TAX  \\\n",
       "0  0.00632  18.0   2.31   0.0  0.538  6.575  65.2  4.0900  1.0  296.0   \n",
       "1  0.02731   0.0   7.07   0.0  0.469  6.421  78.9  4.9671  2.0  242.0   \n",
       "2  0.02729   0.0   7.07   0.0  0.469  7.185  61.1  4.9671  2.0  242.0   \n",
       "3  0.03237   0.0   2.18   0.0  0.458  6.998  45.8  6.0622  3.0  222.0   \n",
       "4  0.06905   0.0   2.18   0.0  0.458  7.147  54.2  6.0622  3.0  222.0   \n",
       "\n",
       "   PTRATIO       B  LSTAT  PRICE  \n",
       "0     15.3  396.90   4.98   24.0  \n",
       "1     17.8  396.90   9.14   21.6  \n",
       "2     17.8  392.83   4.03   34.7  \n",
       "3     18.7  394.63   2.94   33.4  \n",
       "4     18.7  396.90   5.33   36.2  "
      ]
     },
     "execution_count": 6,
     "metadata": {},
     "output_type": "execute_result"
    }
   ],
   "source": [
    "from sklearn.datasets import load_boston\n",
    "boston = load_boston()\n",
    "boston_df = pd.DataFrame(boston.data, columns=boston.feature_names)\n",
    "boston_df['PRICE'] = boston.target\n",
    "boston_df.head()"
   ]
  },
  {
   "cell_type": "code",
   "execution_count": 7,
   "metadata": {},
   "outputs": [
    {
     "name": "stdout",
     "output_type": "stream",
     "text": [
      ".. _boston_dataset:\n",
      "\n",
      "Boston house prices dataset\n",
      "---------------------------\n",
      "\n",
      "**Data Set Characteristics:**  \n",
      "\n",
      "    :Number of Instances: 506 \n",
      "\n",
      "    :Number of Attributes: 13 numeric/categorical predictive. Median Value (attribute 14) is usually the target.\n",
      "\n",
      "    :Attribute Information (in order):\n",
      "        - CRIM     per capita crime rate by town\n",
      "        - ZN       proportion of residential land zoned for lots over 25,000 sq.ft.\n",
      "        - INDUS    proportion of non-retail business acres per town\n",
      "        - CHAS     Charles River dummy variable (= 1 if tract bounds river; 0 otherwise)\n",
      "        - NOX      nitric oxides concentration (parts per 10 million)\n",
      "        - RM       average number of rooms per dwelling\n",
      "        - AGE      proportion of owner-occupied units built prior to 1940\n",
      "        - DIS      weighted distances to five Boston employment centres\n",
      "        - RAD      index of accessibility to radial highways\n",
      "        - TAX      full-value property-tax rate per $10,000\n",
      "        - PTRATIO  pupil-teacher ratio by town\n",
      "        - B        1000(Bk - 0.63)^2 where Bk is the proportion of blacks by town\n",
      "        - LSTAT    % lower status of the population\n",
      "        - MEDV     Median value of owner-occupied homes in $1000's\n",
      "\n",
      "    :Missing Attribute Values: None\n",
      "\n",
      "    :Creator: Harrison, D. and Rubinfeld, D.L.\n",
      "\n",
      "This is a copy of UCI ML housing dataset.\n",
      "https://archive.ics.uci.edu/ml/machine-learning-databases/housing/\n",
      "\n",
      "\n",
      "This dataset was taken from the StatLib library which is maintained at Carnegie Mellon University.\n",
      "\n",
      "The Boston house-price data of Harrison, D. and Rubinfeld, D.L. 'Hedonic\n",
      "prices and the demand for clean air', J. Environ. Economics & Management,\n",
      "vol.5, 81-102, 1978.   Used in Belsley, Kuh & Welsch, 'Regression diagnostics\n",
      "...', Wiley, 1980.   N.B. Various transformations are used in the table on\n",
      "pages 244-261 of the latter.\n",
      "\n",
      "The Boston house-price data has been used in many machine learning papers that address regression\n",
      "problems.   \n",
      "     \n",
      ".. topic:: References\n",
      "\n",
      "   - Belsley, Kuh & Welsch, 'Regression diagnostics: Identifying Influential Data and Sources of Collinearity', Wiley, 1980. 244-261.\n",
      "   - Quinlan,R. (1993). Combining Instance-Based and Model-Based Learning. In Proceedings on the Tenth International Conference of Machine Learning, 236-243, University of Massachusetts, Amherst. Morgan Kaufmann.\n",
      "\n"
     ]
    }
   ],
   "source": [
    "print(boston.DESCR)"
   ]
  },
  {
   "cell_type": "code",
   "execution_count": 8,
   "metadata": {
    "scrolled": true
   },
   "outputs": [
    {
     "name": "stdout",
     "output_type": "stream",
     "text": [
      ".. _boston_dataset:\n",
      "\n",
      "Boston house prices dataset\n",
      "---------------------------\n",
      "\n",
      "**Data Set Characteristics:**  \n",
      "\n",
      "    :Number of Instances: 506 \n",
      "\n",
      "    :Number of Attributes: 13 numeric/categorical predictive. Median Value (attribute 14) is usually the target.\n",
      "\n",
      "    :Attribute Information (in order):\n",
      "        - CRIM     per capita crime rate by town\n",
      "        - ZN       proportion of residential land zoned for lots over 25,000 sq.ft.\n",
      "        - INDUS    proportion of non-retail business acres per town\n",
      "        - CHAS     Charles River dummy variable (= 1 if tract bounds river; 0 otherwise)\n",
      "        - NOX      nitric oxides concentration (parts per 10 million)\n",
      "        - RM       average number of rooms per dwelling\n",
      "        - AGE      proportion of owner-occupied units built prior to 1940\n",
      "        - DIS      weighted distances to five Boston employment centres\n",
      "        - RAD      index of accessibility to radial highways\n",
      "        - TAX      full-value property-tax rate per $10,000\n",
      "        - PTRATIO  pupil-teacher ratio by town\n",
      "        - B        1000(Bk - 0.63)^2 where Bk is the proportion of blacks by town\n",
      "        - LSTAT    % lower status of the population\n",
      "        - MEDV     Median value of owner-occupied homes in $1000's\n",
      "\n",
      "    :Missing Attribute Values: None\n",
      "\n",
      "    :Creator: Harrison, D. and Rubinfeld, D.L.\n",
      "\n",
      "This is a copy of UCI ML housing dataset.\n",
      "https://archive.ics.uci.edu/ml/machine-learning-databases/housing/\n",
      "\n",
      "\n",
      "This dataset was taken from the StatLib library which is maintained at Carnegie Mellon University.\n",
      "\n",
      "The Boston house-price data of Harrison, D. and Rubinfeld, D.L. 'Hedonic\n",
      "prices and the demand for clean air', J. Environ. Economics & Management,\n",
      "vol.5, 81-102, 1978.   Used in Belsley, Kuh & Welsch, 'Regression diagnostics\n",
      "...', Wiley, 1980.   N.B. Various transformations are used in the table on\n",
      "pages 244-261 of the latter.\n",
      "\n",
      "The Boston house-price data has been used in many machine learning papers that address regression\n",
      "problems.   \n",
      "     \n",
      ".. topic:: References\n",
      "\n",
      "   - Belsley, Kuh & Welsch, 'Regression diagnostics: Identifying Influential Data and Sources of Collinearity', Wiley, 1980. 244-261.\n",
      "   - Quinlan,R. (1993). Combining Instance-Based and Model-Based Learning. In Proceedings on the Tenth International Conference of Machine Learning, 236-243, University of Massachusetts, Amherst. Morgan Kaufmann.\n",
      "\n"
     ]
    }
   ],
   "source": [
    "print(boston.DESCR)"
   ]
  },
  {
   "cell_type": "code",
   "execution_count": 9,
   "metadata": {
    "scrolled": false
   },
   "outputs": [
    {
     "ename": "ValueError",
     "evalue": "x and y must be the same size",
     "output_type": "error",
     "traceback": [
      "\u001b[1;31m---------------------------------------------------------------------------\u001b[0m",
      "\u001b[1;31mValueError\u001b[0m                                Traceback (most recent call last)",
      "\u001b[1;32m<ipython-input-9-5ce8fdca2c6a>\u001b[0m in \u001b[0;36m<module>\u001b[1;34m\u001b[0m\n\u001b[0;32m     21\u001b[0m \u001b[0my\u001b[0m \u001b[1;33m=\u001b[0m \u001b[0mpd\u001b[0m\u001b[1;33m.\u001b[0m\u001b[0mDataFrame\u001b[0m\u001b[1;33m(\u001b[0m\u001b[0mboston\u001b[0m\u001b[1;33m.\u001b[0m\u001b[0mtarget\u001b[0m\u001b[1;33m,\u001b[0m \u001b[0mcolumns\u001b[0m\u001b[1;33m=\u001b[0m\u001b[1;33m[\u001b[0m\u001b[1;34m'PRICE'\u001b[0m\u001b[1;33m]\u001b[0m\u001b[1;33m)\u001b[0m  \u001b[1;31m#solo una columna\u001b[0m\u001b[1;33m\u001b[0m\u001b[1;33m\u001b[0m\u001b[0m\n\u001b[0;32m     22\u001b[0m \u001b[1;33m\u001b[0m\u001b[0m\n\u001b[1;32m---> 23\u001b[1;33m \u001b[0mlasso_reg\u001b[0m\u001b[1;33m(\u001b[0m\u001b[0mX\u001b[0m\u001b[1;33m,\u001b[0m \u001b[0my\u001b[0m\u001b[1;33m,\u001b[0m \u001b[0malfa\u001b[0m\u001b[1;33m=\u001b[0m\u001b[1;36m0.001\u001b[0m\u001b[1;33m,\u001b[0m \u001b[0msteps\u001b[0m\u001b[1;33m=\u001b[0m\u001b[1;36m1000\u001b[0m\u001b[1;33m)\u001b[0m\u001b[1;33m\u001b[0m\u001b[1;33m\u001b[0m\u001b[0m\n\u001b[0m",
      "\u001b[1;32m<ipython-input-9-5ce8fdca2c6a>\u001b[0m in \u001b[0;36mlasso_reg\u001b[1;34m(X, y, learning_rate, steps, alfa)\u001b[0m\n\u001b[0;32m      7\u001b[0m \u001b[1;33m\u001b[0m\u001b[0m\n\u001b[0;32m      8\u001b[0m     \u001b[0mfig\u001b[0m\u001b[1;33m,\u001b[0m \u001b[0max\u001b[0m \u001b[1;33m=\u001b[0m \u001b[0mplt\u001b[0m\u001b[1;33m.\u001b[0m\u001b[0msubplots\u001b[0m\u001b[1;33m(\u001b[0m\u001b[1;33m)\u001b[0m\u001b[1;33m\u001b[0m\u001b[1;33m\u001b[0m\u001b[0m\n\u001b[1;32m----> 9\u001b[1;33m     \u001b[0max\u001b[0m\u001b[1;33m.\u001b[0m\u001b[0mscatter\u001b[0m\u001b[1;33m(\u001b[0m\u001b[0mX\u001b[0m\u001b[1;33m,\u001b[0m \u001b[0my\u001b[0m\u001b[1;33m)\u001b[0m\u001b[1;33m\u001b[0m\u001b[1;33m\u001b[0m\u001b[0m\n\u001b[0m\u001b[0;32m     10\u001b[0m \u001b[1;33m\u001b[0m\u001b[0m\n\u001b[0;32m     11\u001b[0m     \u001b[1;32mfor\u001b[0m \u001b[0mi\u001b[0m \u001b[1;32min\u001b[0m \u001b[0mrange\u001b[0m\u001b[1;33m(\u001b[0m\u001b[0msteps\u001b[0m\u001b[1;33m)\u001b[0m\u001b[1;33m:\u001b[0m\u001b[1;33m\u001b[0m\u001b[1;33m\u001b[0m\u001b[0m\n",
      "\u001b[1;32m~\\Anaconda3\\lib\\site-packages\\matplotlib\\__init__.py\u001b[0m in \u001b[0;36minner\u001b[1;34m(ax, data, *args, **kwargs)\u001b[0m\n\u001b[0;32m   1808\u001b[0m                         \u001b[1;34m\"the Matplotlib list!)\"\u001b[0m \u001b[1;33m%\u001b[0m \u001b[1;33m(\u001b[0m\u001b[0mlabel_namer\u001b[0m\u001b[1;33m,\u001b[0m \u001b[0mfunc\u001b[0m\u001b[1;33m.\u001b[0m\u001b[0m__name__\u001b[0m\u001b[1;33m)\u001b[0m\u001b[1;33m,\u001b[0m\u001b[1;33m\u001b[0m\u001b[1;33m\u001b[0m\u001b[0m\n\u001b[0;32m   1809\u001b[0m                         RuntimeWarning, stacklevel=2)\n\u001b[1;32m-> 1810\u001b[1;33m             \u001b[1;32mreturn\u001b[0m \u001b[0mfunc\u001b[0m\u001b[1;33m(\u001b[0m\u001b[0max\u001b[0m\u001b[1;33m,\u001b[0m \u001b[1;33m*\u001b[0m\u001b[0margs\u001b[0m\u001b[1;33m,\u001b[0m \u001b[1;33m**\u001b[0m\u001b[0mkwargs\u001b[0m\u001b[1;33m)\u001b[0m\u001b[1;33m\u001b[0m\u001b[1;33m\u001b[0m\u001b[0m\n\u001b[0m\u001b[0;32m   1811\u001b[0m \u001b[1;33m\u001b[0m\u001b[0m\n\u001b[0;32m   1812\u001b[0m         inner.__doc__ = _add_data_doc(inner.__doc__,\n",
      "\u001b[1;32m~\\Anaconda3\\lib\\site-packages\\matplotlib\\axes\\_axes.py\u001b[0m in \u001b[0;36mscatter\u001b[1;34m(self, x, y, s, c, marker, cmap, norm, vmin, vmax, alpha, linewidths, verts, edgecolors, **kwargs)\u001b[0m\n\u001b[0;32m   4180\u001b[0m         \u001b[0my\u001b[0m \u001b[1;33m=\u001b[0m \u001b[0mnp\u001b[0m\u001b[1;33m.\u001b[0m\u001b[0mma\u001b[0m\u001b[1;33m.\u001b[0m\u001b[0mravel\u001b[0m\u001b[1;33m(\u001b[0m\u001b[0my\u001b[0m\u001b[1;33m)\u001b[0m\u001b[1;33m\u001b[0m\u001b[1;33m\u001b[0m\u001b[0m\n\u001b[0;32m   4181\u001b[0m         \u001b[1;32mif\u001b[0m \u001b[0mx\u001b[0m\u001b[1;33m.\u001b[0m\u001b[0msize\u001b[0m \u001b[1;33m!=\u001b[0m \u001b[0my\u001b[0m\u001b[1;33m.\u001b[0m\u001b[0msize\u001b[0m\u001b[1;33m:\u001b[0m\u001b[1;33m\u001b[0m\u001b[1;33m\u001b[0m\u001b[0m\n\u001b[1;32m-> 4182\u001b[1;33m             \u001b[1;32mraise\u001b[0m \u001b[0mValueError\u001b[0m\u001b[1;33m(\u001b[0m\u001b[1;34m\"x and y must be the same size\"\u001b[0m\u001b[1;33m)\u001b[0m\u001b[1;33m\u001b[0m\u001b[1;33m\u001b[0m\u001b[0m\n\u001b[0m\u001b[0;32m   4183\u001b[0m \u001b[1;33m\u001b[0m\u001b[0m\n\u001b[0;32m   4184\u001b[0m         \u001b[1;32mif\u001b[0m \u001b[0ms\u001b[0m \u001b[1;32mis\u001b[0m \u001b[1;32mNone\u001b[0m\u001b[1;33m:\u001b[0m\u001b[1;33m\u001b[0m\u001b[1;33m\u001b[0m\u001b[0m\n",
      "\u001b[1;31mValueError\u001b[0m: x and y must be the same size"
     ]
    },
    {
     "data": {
      "image/png": "[encoded data removed]",
      "text/plain": [
       "<Figure size 432x288 with 1 Axes>"
      ]
     },
     "metadata": {
      "needs_background": "light"
     },
     "output_type": "display_data"
    }
   ],
   "source": [
    "def lasso_reg(X, y, learning_rate=0.01, steps=1000, alfa=1):\n",
    "    m, n = X.shape\n",
    "    \n",
    "    X_aug = np.concatenate((np.ones((m, 1)), X), axis=1)\n",
    "\n",
    "    theta = np.random.randn(n + 1, 1)\n",
    "\n",
    "    fig, ax = plt.subplots()\n",
    "    ax.scatter(X, y)\n",
    "\n",
    "    for i in range(steps):\n",
    "        theta -= learning_rate * (2 / m) * X_aug.T @ (X_aug @ theta - y) + alfa * np.sign(theta)\n",
    "        y_pred = X_aug @ theta\n",
    "\n",
    "        if i // (steps // 10) == 0:\n",
    "            ax.plot(X_aug[:, 1], y_pred, color='green', alpha=0.3)\n",
    "    print('Final Parameters: \\n {}'.format(theta))\n",
    "\n",
    "    \n",
    "X = pd.DataFrame(boston.data, columns=boston.feature_names) #lista de datos X\n",
    "y = pd.DataFrame(boston.target, columns=['PRICE'])  #solo una columna\n",
    "    \n",
    "lasso_reg(X, y, alfa=0.001, steps=1000)"
   ]
  },
  {
   "cell_type": "code",
   "execution_count": 12,
   "metadata": {},
   "outputs": [
    {
     "name": "stdout",
     "output_type": "stream",
     "text": [
      "[25.57707318] [-0.09789363  0.04921111 -0.03661906  0.95519003 -0.          3.70320175\n",
      " -0.01003698 -1.16053834  0.27470721 -0.01457017 -0.77065434  0.01024917\n",
      " -0.56876914]\n"
     ]
    }
   ],
   "source": [
    "from sklearn.linear_model import Lasso\n",
    "\n",
    "X = pd.DataFrame(boston.data, columns=boston.feature_names) #lista de datos X\n",
    "y = pd.DataFrame(boston.target, columns=['PRICE'])  #solo una columna\n",
    "\n",
    "model = Lasso(alpha=0.1)\n",
    "model.fit(X, y)\n",
    "print(model.intercept_, model.coef_)"
   ]
  },
  {
   "cell_type": "code",
   "execution_count": 1,
   "metadata": {},
   "outputs": [
    {
     "ename": "NameError",
     "evalue": "name 'model' is not defined",
     "output_type": "error",
     "traceback": [
      "\u001b[1;31m---------------------------------------------------------------------------\u001b[0m",
      "\u001b[1;31mNameError\u001b[0m                                 Traceback (most recent call last)",
      "\u001b[1;32m<ipython-input-1-ef4559728383>\u001b[0m in \u001b[0;36m<module>\u001b[1;34m\u001b[0m\n\u001b[0;32m      1\u001b[0m \u001b[1;31m#scater plot de la estimacion real y la predicha, ver como se esta comportando graficamente\u001b[0m\u001b[1;33m\u001b[0m\u001b[1;33m\u001b[0m\u001b[1;33m\u001b[0m\u001b[0m\n\u001b[1;32m----> 2\u001b[1;33m \u001b[0my_pred\u001b[0m \u001b[1;33m=\u001b[0m \u001b[0mmodel\u001b[0m\u001b[1;33m.\u001b[0m\u001b[0mpredict\u001b[0m\u001b[1;33m(\u001b[0m\u001b[0mX\u001b[0m\u001b[1;33m)\u001b[0m\u001b[1;33m\u001b[0m\u001b[1;33m\u001b[0m\u001b[0m\n\u001b[0m\u001b[0;32m      3\u001b[0m \u001b[0mplt\u001b[0m\u001b[1;33m.\u001b[0m\u001b[0mscatter\u001b[0m\u001b[1;33m(\u001b[0m\u001b[0my\u001b[0m\u001b[1;33m,\u001b[0m\u001b[0my_pred\u001b[0m\u001b[1;33m)\u001b[0m\u001b[1;33m\u001b[0m\u001b[1;33m\u001b[0m\u001b[0m\n",
      "\u001b[1;31mNameError\u001b[0m: name 'model' is not defined"
     ]
    }
   ],
   "source": [
    "#scater plot de la estimacion real y la predicha, ver como se esta comportando graficamente\n",
    "y_pred = model.predict(X)\n",
    "plt.scatter(y,y_pred)"
   ]
  },
  {
   "cell_type": "code",
   "execution_count": 14,
   "metadata": {},
   "outputs": [
    {
     "data": {
      "text/plain": [
       "0.7269834862602695"
      ]
     },
     "execution_count": 14,
     "metadata": {},
     "output_type": "execute_result"
    }
   ],
   "source": [
    "from sklearn.metrics import r2_score\n",
    "R2 = r2_score(y, y_pred) #calcular r2\n",
    "R2"
   ]
  },
  {
   "cell_type": "code",
   "execution_count": 15,
   "metadata": {},
   "outputs": [
    {
     "name": "stdout",
     "output_type": "stream",
     "text": [
      "[36.37832368] [[-1.07954381e-01  4.64363761e-02  2.00760699e-02  2.68500996e+00\n",
      "  -1.76521422e+01  3.81076688e+00  5.90352236e-04 -1.47388018e+00\n",
      "   3.05780592e-01 -1.23436561e-02 -9.51477563e-01  9.31765360e-03\n",
      "  -5.24884868e-01]]\n"
     ]
    }
   ],
   "source": [
    "#estimar con ridge\n",
    "from sklearn.linear_model import Ridge \n",
    "\n",
    "X = pd.DataFrame(boston.data, columns=boston.feature_names) \n",
    "y = pd.DataFrame(boston.target, columns=['PRICE']) \n",
    "\n",
    "model_ridge = Ridge(alpha=0.01, )\n",
    "model_ridge.fit(X, y)\n",
    "print(model_ridge.intercept_, model_ridge.coef_)"
   ]
  },
  {
   "cell_type": "markdown",
   "metadata": {},
   "source": [
    "### Lasso Path"
   ]
  },
  {
   "cell_type": "code",
   "execution_count": 19,
   "metadata": {},
   "outputs": [
    {
     "data": {
      "text/plain": [
       "<matplotlib.legend.Legend at 0x1e30b5202e8>"
      ]
     },
     "execution_count": 19,
     "metadata": {},
     "output_type": "execute_result"
    },
    {
     "data": {
      "image/png": "[encoded data removed]",
      "text/plain": [
       "<Figure size 1152x432 with 1 Axes>"
      ]
     },
     "metadata": {
      "needs_background": "light"
     },
     "output_type": "display_data"
    }
   ],
   "source": [
    "from sklearn.linear_model import lasso_path\n",
    "\n",
    "X = boston_df.drop('PRICE', axis=1)\n",
    "y = boston_df['PRICE']\n",
    "\n",
    "alphas, coefs, _ = lasso_path(X, y, alphas=[0.000001, 0.0001, 0.001, 0.01, 0.1, 1, 10])\n",
    "\n",
    "\n",
    "plt.figure(figsize=(16, 6))\n",
    "for i, coef in enumerate(coefs):\n",
    "    plt.plot(-np.log(alphas), coef, label=X.columns[i], linewidth=4, alpha=0.6)\n",
    "    \n",
    "    #como cambian los valores de los parametros a medida que aumento el penalty\n",
    "    #los que se hacen cero primero son los menos significativos\n",
    "    \n",
    "    #el valor de alfa ideal con cross validation\n",
    " \n",
    "\n",
    "plt.legend()\n",
    "    "
   ]
  },
  {
   "cell_type": "markdown",
   "metadata": {},
   "source": [
    "## Logistic Regression"
   ]
  },
  {
   "cell_type": "markdown",
   "metadata": {},
   "source": [
    "Just like a Linear Regression model, a Logistic Regression model computes a weighted sum of the input features (plus a bias term), but instead of outputting the result directly like the Linear Regression model does, it outputs the logistic of this result .\n",
    "\n",
    "$$\\hat{p} = h_{\\theta}(x) = \\sigma(\\theta^{T}x)$$\n",
    "\n",
    "where $\\sigma(\\cdot)$ is the logistic function:\n",
    "\n",
    "$$\\sigma(t) = \\frac{1}{1 + e^{-t}}$$"
   ]
  },
  {
   "cell_type": "code",
   "execution_count": 5,
   "metadata": {},
   "outputs": [
    {
     "data": {
      "image/png": "[encoded data removed]",
      "text/plain": [
       "<Figure size 432x288 with 1 Axes>"
      ]
     },
     "metadata": {
      "needs_background": "light"
     },
     "output_type": "display_data"
    }
   ],
   "source": [
    "sigm = lambda t: 1 / (1 + np.e ** (-t))\n",
    "t_range = np.linspace(-5, 5)\n",
    "plt.plot(t_range, sigm(t_range));"
   ]
  },
  {
   "cell_type": "markdown",
   "metadata": {},
   "source": [
    "Cost Function:\n",
    "\n",
    "\n",
    "$$J(\\theta) = \\frac{1}{m}\\sum_{i=1}^{m}[y^{(i)}log(\\hat{p}^{(i)}) + (1 - y^{(i)})log(1 - \\hat{p}^{(i)})])$$\n",
    "\n",
    "\n",
    "$$\\frac{\\partial}{\\partial \\theta_{j}}J(\\theta) = \\frac{1}{m}\\sum_{i=1}^{m} (\\sigma(\\theta^{T}x^{(i)}) - y^{(i)})x_{j}^{(i)}$$"
   ]
  },
  {
   "cell_type": "code",
   "execution_count": 41,
   "metadata": {},
   "outputs": [],
   "source": [
    "from sklearn import datasets\n",
    "from sklearn.linear_model import LogisticRegression\n",
    "\n",
    "from sklearn.model_selection import train_test_split  #divido los datos en uno para entrenar y otro testeo\n",
    "\n",
    "iris = datasets.load_iris()"
   ]
  },
  {
   "cell_type": "code",
   "execution_count": 42,
   "metadata": {},
   "outputs": [
    {
     "data": {
      "text/html": [
       "<div>\n",
       "<style scoped>\n",
       "    .dataframe tbody tr th:only-of-type {\n",
       "        vertical-align: middle;\n",
       "    }\n",
       "\n",
       "    .dataframe tbody tr th {\n",
       "        vertical-align: top;\n",
       "    }\n",
       "\n",
       "    .dataframe thead th {\n",
       "        text-align: right;\n",
       "    }\n",
       "</style>\n",
       "<table border=\"1\" class=\"dataframe\">\n",
       "  <thead>\n",
       "    <tr style=\"text-align: right;\">\n",
       "      <th></th>\n",
       "      <th>sepal length (cm)</th>\n",
       "      <th>sepal width (cm)</th>\n",
       "      <th>petal length (cm)</th>\n",
       "      <th>petal width (cm)</th>\n",
       "      <th>class</th>\n",
       "    </tr>\n",
       "  </thead>\n",
       "  <tbody>\n",
       "    <tr>\n",
       "      <th>0</th>\n",
       "      <td>5.1</td>\n",
       "      <td>3.5</td>\n",
       "      <td>1.4</td>\n",
       "      <td>0.2</td>\n",
       "      <td>0</td>\n",
       "    </tr>\n",
       "    <tr>\n",
       "      <th>1</th>\n",
       "      <td>4.9</td>\n",
       "      <td>3.0</td>\n",
       "      <td>1.4</td>\n",
       "      <td>0.2</td>\n",
       "      <td>0</td>\n",
       "    </tr>\n",
       "    <tr>\n",
       "      <th>2</th>\n",
       "      <td>4.7</td>\n",
       "      <td>3.2</td>\n",
       "      <td>1.3</td>\n",
       "      <td>0.2</td>\n",
       "      <td>0</td>\n",
       "    </tr>\n",
       "    <tr>\n",
       "      <th>3</th>\n",
       "      <td>4.6</td>\n",
       "      <td>3.1</td>\n",
       "      <td>1.5</td>\n",
       "      <td>0.2</td>\n",
       "      <td>0</td>\n",
       "    </tr>\n",
       "    <tr>\n",
       "      <th>4</th>\n",
       "      <td>5.0</td>\n",
       "      <td>3.6</td>\n",
       "      <td>1.4</td>\n",
       "      <td>0.2</td>\n",
       "      <td>0</td>\n",
       "    </tr>\n",
       "  </tbody>\n",
       "</table>\n",
       "</div>"
      ],
      "text/plain": [
       "   sepal length (cm)  sepal width (cm)  petal length (cm)  petal width (cm)  \\\n",
       "0                5.1               3.5                1.4               0.2   \n",
       "1                4.9               3.0                1.4               0.2   \n",
       "2                4.7               3.2                1.3               0.2   \n",
       "3                4.6               3.1                1.5               0.2   \n",
       "4                5.0               3.6                1.4               0.2   \n",
       "\n",
       "   class  \n",
       "0      0  \n",
       "1      0  \n",
       "2      0  \n",
       "3      0  \n",
       "4      0  "
      ]
     },
     "execution_count": 42,
     "metadata": {},
     "output_type": "execute_result"
    }
   ],
   "source": [
    "iris_df = pd.DataFrame(iris['data'], columns=iris['feature_names'])\n",
    "iris_df['class'] = iris['target']\n",
    "iris_df.head()"
   ]
  },
  {
   "cell_type": "code",
   "execution_count": 20,
   "metadata": {
    "scrolled": true
   },
   "outputs": [
    {
     "ename": "NameError",
     "evalue": "name 'iris_df' is not defined",
     "output_type": "error",
     "traceback": [
      "\u001b[1;31m---------------------------------------------------------------------------\u001b[0m",
      "\u001b[1;31mNameError\u001b[0m                                 Traceback (most recent call last)",
      "\u001b[1;32m<ipython-input-20-2d526ae1c401>\u001b[0m in \u001b[0;36m<module>\u001b[1;34m\u001b[0m\n\u001b[1;32m----> 1\u001b[1;33m \u001b[0miris_df\u001b[0m\u001b[1;33m[\u001b[0m\u001b[1;34m'class'\u001b[0m\u001b[1;33m]\u001b[0m \u001b[1;33m==\u001b[0m \u001b[1;36m2\u001b[0m\u001b[1;33m\u001b[0m\u001b[1;33m\u001b[0m\u001b[0m\n\u001b[0m",
      "\u001b[1;31mNameError\u001b[0m: name 'iris_df' is not defined"
     ]
    }
   ],
   "source": [
    "iris_df['class'] == 2\n"
   ]
  },
  {
   "cell_type": "code",
   "execution_count": 47,
   "metadata": {},
   "outputs": [
    {
     "name": "stderr",
     "output_type": "stream",
     "text": [
      "C:\\Users\\joseo\\Anaconda3\\lib\\site-packages\\sklearn\\model_selection\\_split.py:2179: FutureWarning: From version 0.21, test_size will always complement train_size unless both are specified.\n",
      "  FutureWarning)\n"
     ]
    }
   ],
   "source": [
    "X = iris_df.drop('class', axis=1)\n",
    "y = iris_df['class'] == 2\n",
    "\n",
    "X_train, X_test, y_train, y_test = train_test_split(X, y, train_size=0.6)"
   ]
  },
  {
   "cell_type": "code",
   "execution_count": 49,
   "metadata": {},
   "outputs": [
    {
     "name": "stderr",
     "output_type": "stream",
     "text": [
      "C:\\Users\\joseo\\Anaconda3\\lib\\site-packages\\sklearn\\linear_model\\logistic.py:433: FutureWarning: Default solver will be changed to 'lbfgs' in 0.22. Specify a solver to silence this warning.\n",
      "  FutureWarning)\n"
     ]
    }
   ],
   "source": [
    "model = LogisticRegression()\n",
    "model.fit(X_train, y_train)\n",
    "y_train_pred = model.predict(X_train)\n",
    "y_test_pred = model.predict(X_test)\n"
   ]
  },
  {
   "cell_type": "code",
   "execution_count": null,
   "metadata": {},
   "outputs": [],
   "source": [
    "from sklearn.metrics import accuracy_score\n",
    "print('Train Score', accuracy_score(y_train, y_train_pred))\n",
    "print('Test Score', accuracy_score(y_test, y_test_pred))"
   ]
  }
 ],
 "metadata": {
  "kernelspec": {
   "display_name": "Python 3",
   "language": "python",
   "name": "python3"
  },
  "language_info": {
   "codemirror_mode": {
    "name": "ipython",
    "version": 3
   },
   "file_extension": ".py",
   "mimetype": "text/x-python",
   "name": "python",
   "nbconvert_exporter": "python",
   "pygments_lexer": "ipython3",
   "version": "3.7.1"
  }
 },
 "nbformat": 4,
 "nbformat_minor": 2
}
