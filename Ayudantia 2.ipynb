{
 "cells": [
  {
   "cell_type": "markdown",
   "metadata": {},
   "source": [
    "# Object Oriented Programming"
   ]
  },
  {
   "cell_type": "code",
   "execution_count": 1,
   "metadata": {},
   "outputs": [
    {
     "name": "stdout",
     "output_type": "stream",
     "text": [
      "Soy un nuevo objeto\n",
      "Soy un nuevo objeto\n",
      "\n",
      "Soy Pedro y tengo  25\n",
      "Yo soy raul y tengo 25\n",
      "\n",
      "\n",
      "Hola\n",
      "Hola pedro, soy raul\n"
     ]
    }
   ],
   "source": [
    "#VIDEO YT\n",
    "#https://www.youtube.com/watch?v=VYXdpjCZojA\n",
    "\n",
    "#Atributos del objeto (son sus caracteristicas)\n",
    "#Metodo (acciones que puede hacer el objeto, son funciones)\n",
    "\n",
    "class Humano:\n",
    "    def __init__(self):\n",
    "        self.edad = 25  #ESTE ES UN ATRIBUTO que es el mismo para todas las instancias de mi objeto\n",
    "        print(\"Soy un nuevo objeto\")\n",
    "        \n",
    "    def hablar(self, mensaje): #Mensaje es una variable que recibo como argumento del método\n",
    "        print(mensaje)\n",
    "\n",
    "####\n",
    "pedro = Humano()   #declaro que perdo es humano\n",
    "raul = Humano()\n",
    "\n",
    "print(\"\\nSoy Pedro y tengo \", pedro.edad)  #llamo a un atributo del objeto\n",
    "print(\"Yo soy raul y tengo\", raul.edad)\n",
    "\n",
    "pedro.hablar(\"\\n\\nHola\") #llamo a un metodo del objetivo y con el argumento que necesita, que al final es una funcion\n",
    "raul.hablar(\"Hola pedro, soy raul\")\n"
   ]
  },
  {
   "cell_type": "code",
   "execution_count": 2,
   "metadata": {},
   "outputs": [
    {
     "name": "stdout",
     "output_type": "stream",
     "text": [
      "Hola soy pedro y tengo 26\n",
      "Hola, soy raul y tengo 21\n",
      "\n",
      "Hola, soy pedro\n",
      "Hola pedro, hola a todos, soy raul\n"
     ]
    }
   ],
   "source": [
    "class Humano:\n",
    "    def __init__(self,edad):  #ahora le paso una variable\n",
    "                                #COMO ES EL INIT, AL CREAR EL INSTANCIAS DEL OBJETO TENGO QUE PASARLE LA EDAD SIEMPRE\n",
    "        self.edad = edad\n",
    "            \n",
    "            #self.edad ES UN ATRIBUTO DE LA CLASE\n",
    "            #edad es una variable que recibo, como argumento de mi metodo\n",
    "    def hablar(self,mensaje):\n",
    "        print(mensaje)\n",
    "\n",
    "pedro = Humano(26)\n",
    "raul = Humano(21)\n",
    "\n",
    "print(\"Hola soy pedro y tengo\", pedro.edad)\n",
    "print(\"Hola, soy raul y tengo\", raul.edad)\n",
    "\n",
    "pedro.hablar(\"\\nHola, soy pedro\")\n",
    "raul.hablar(\"Hola pedro, hola a todos, soy raul\")"
   ]
  },
  {
   "cell_type": "code",
   "execution_count": 3,
   "metadata": {
    "scrolled": true
   },
   "outputs": [
    {
     "name": "stdout",
     "output_type": "stream",
     "text": [
      "Hola soy pedro y tengo 26\n",
      "Hola, soy raul y tengo 21\n",
      "Hola, tengo 26\n"
     ]
    }
   ],
   "source": [
    "class Humano:\n",
    "    def __init__(self,edad):  #ahora le paso una variable\n",
    "                                #COMO ES EL INIT, AL CREAR EL INSTANCIAS DEL OBJETO TENGO QUE PASARLE LA EDAD SIEMPRE\n",
    "        self.edad = edad\n",
    "            \n",
    "            #self.edad ES UN ATRIBUTO DE LA CLASE\n",
    "            #edad es una variable que recibo, como argumento de mi metodo\n",
    "    def __str__(self):\n",
    "        return \"Hola, tengo {}\".format(self.edad)\n",
    "    \n",
    "            \n",
    "\n",
    "pedro = Humano(26)\n",
    "raul = Humano(21)\n",
    "\n",
    "print(\"Hola soy pedro y tengo\", pedro.edad)\n",
    "print(\"Hola, soy raul y tengo\", raul.edad)\n",
    "\n",
    "print(pedro)"
   ]
  },
  {
   "cell_type": "code",
   "execution_count": 4,
   "metadata": {},
   "outputs": [
    {
     "name": "stdout",
     "output_type": "stream",
     "text": [
      "Voy a programar en  C++\n",
      "Debo estudiar el caso de  Pedro\n",
      "\n",
      "Hola, soy pedro\n",
      "Hola pedro, hola a todos, soy raul\n"
     ]
    }
   ],
   "source": [
    "#Video herencia subclase y superclase\n",
    "#video: https://www.youtube.com/watch?v=6dE57aXaChg\n",
    "\n",
    "class Humano:\n",
    "    def __init__(self,edad):  \n",
    "        self.edad = edad\n",
    "              \n",
    "    def hablar(self,mensaje):\n",
    "        print(mensaje)\n",
    "\n",
    "class IngSistemas(Humano):   #YA NO NECESITO UN INIT, PORQUE LO ARRASTRO DE LA SUPERCLASE HUMANO\n",
    "    def programar(self, lenguaje):\n",
    "        print(\"Voy a programar en \", lenguaje)\n",
    "    \n",
    "    #SI LE ESCRIBO UN INIT, ESTOY SOBRESCCRIBIENDO MÉTODOS Y SOLO SE TOMARIA EL INIT DE LA SUBCLASE Y NO EL DE LA SUPERCLASE\n",
    "\n",
    "class LicDerecho(Humano):\n",
    "    def estudiarCaso(self,de):\n",
    "        print(\"Debo estudiar el caso de \", de)\n",
    "\n",
    "pedro = IngSistemas(26)\n",
    "raul = LicDerecho(21)\n",
    "\n",
    "pedro.programar(\"C++\");\n",
    "raul.estudiarCaso(\"Pedro\");\n",
    "\n",
    "pedro.hablar(\"\\nHola, soy pedro\")\n",
    "raul.hablar(\"Hola pedro, hola a todos, soy raul\")"
   ]
  },
  {
   "cell_type": "code",
   "execution_count": 5,
   "metadata": {},
   "outputs": [],
   "source": [
    "#Herencia Multiples\n",
    "#quizas revisar"
   ]
  },
  {
   "cell_type": "markdown",
   "metadata": {},
   "source": [
    "# AYUDANTIA 2 OBJETOS"
   ]
  },
  {
   "cell_type": "code",
   "execution_count": 2,
   "metadata": {},
   "outputs": [
    {
     "name": "stdout",
     "output_type": "stream",
     "text": [
      "3 of Diamonds\n",
      "True\n",
      "False\n",
      "1 3\n",
      "3 of Diamonds\n",
      "3 of Diamonds ,  3 of Diamonds\n",
      "True\n"
     ]
    }
   ],
   "source": [
    "class Card(object):\n",
    "    suit_names = ['Clubs', 'Diamonds', 'Hearts', 'Spades']   #marco de trabajo para generar atributos de clase\n",
    "    rank_names = [None, 'Ace', '2', '3', '4', '5', '6', '7', #genero atributos del objeto como numero que van a apuntar al\n",
    "                  '8', '9', '10', 'Jack', 'Queen', 'King']   #string para dejarlo como palabras\n",
    "                                                            #None es para que el numero concida con la posicion \n",
    "    \n",
    "    #son atributos que creo, el objeto Card tiene como atributo los arreglos suit_names y rank_names, ademas de otros atributos\n",
    "    #definidos abajo como self.suit y self.rank\n",
    "    \n",
    "    \n",
    "    def __init__(self, suit=0, rank=1):  #self autoreferencia a si mismo, pinta es un numero y rank es un numero\n",
    "         #ES EL CONSTRUCTOR DEL OBJETO, la clase object tiene implementado el constructor init, tiene que tener ese nombre\n",
    "            #__init__ se ejecuta primero al crear el objeto y tengo que pasarle las 2 variables que pide\n",
    "        self.suit = suit\n",
    "        self.rank = rank\n",
    "        \n",
    "    def __str__(self):   #REPRESENTACION GRAFICA del objeto, es lo que se ejecuta al poner print(objeto_creado)\n",
    "                            #TODOS LOS METODOS CREADOS TENGO QUE PASARLE EL SELF\n",
    "        return '{} of {}'.format(Card.rank_names[self.rank],\n",
    "                                 Card.suit_names[self.suit])\n",
    "    \n",
    "    def __lt__(self, other):   #METODO UTILIZADO PARA COMPARAR\n",
    "                                 #si no lo hago con este metodo compara los id de memoria y eso no me interesa\n",
    "                                #compara la pinta primero y luego el numero\n",
    "        if self.suit < other.suit: return True    \n",
    "        if self.rank < other.rank: return True #numero de la carta 1 es menor que el numero de la otra carta, retorna true\n",
    "        return False\n",
    "    \n",
    "    def __eq__(self, other):   #metodo para definir la igualdad de objetos\n",
    "        return (self.suit == other.suit) and (self.rank == other.rank)\n",
    "   \n",
    "    def show(self):  #crea el metodo show, no es de los creados por defecto de pyton, tengo que pasarle el propio objeto self\n",
    "        print(Card.rank_names[self.rank] + 'of' + Card.suit_names[self.suit])    #nombre de la clase y atributo de la clase \n",
    "    \n",
    "    \n",
    "    \n",
    "   \n",
    "card1 = Card(1, 3)\n",
    "card2 = Card(1, 3)\n",
    "print(card1)  #ME IMPRIME EL METODO STR, LA REPRESENTACIÓN GRÁFICA\n",
    "\n",
    "print(card1 == card2) #ESTOY COMPARADO SI DOS OBJETOS SON IGUALES, UTILIZA EL METODO __eq__\n",
    "print(card1 < card2) #comparando si carta 1 es menor a carta2, primero la pinta y luego el numero, utiliza el metodo __it__\n",
    "\n",
    "\n",
    "card3 = Card(1,3) #es un 3 de diamante\n",
    "print(card3.suit, card3.rank)  #imprimo la pinta y el numero del objeto card3, self.rank y self.rank tambien son atributos\n",
    "                                #del objeto , ergo tambien lo puedo llamar\n",
    "print(card3)\n",
    "\n",
    "\n",
    "print(card1,', ', card2)\n",
    "\n",
    "print(Card(2,3)>Card(1,10))  #compara la pinta primero"
   ]
  },
  {
   "cell_type": "code",
   "execution_count": 7,
   "metadata": {},
   "outputs": [
    {
     "name": "stdout",
     "output_type": "stream",
     "text": [
      "A person of age 20\n"
     ]
    }
   ],
   "source": [
    "class Person:\n",
    "    def __init__(self, age):  \n",
    "        self.age = age        #al definir el objeto le paso la variable age y defino un atributo del objeto llamado age de\n",
    "                                #acuerdo a esa variable\n",
    "    \n",
    "    def __str__(self): #representacion en string del objeto\n",
    "        return 'A person of age {}'.format(self.age)\n",
    "        \n",
    "person1 = Person(20)\n",
    "print(person1)"
   ]
  },
  {
   "cell_type": "code",
   "execution_count": 8,
   "metadata": {},
   "outputs": [
    {
     "name": "stdout",
     "output_type": "stream",
     "text": [
      "52 Cards:\n",
      "Ace of Clubs\n",
      "2 of Clubs\n",
      "3 of Clubs\n",
      "4 of Clubs\n",
      "5 of Clubs\n",
      "6 of Clubs\n",
      "7 of Clubs\n",
      "8 of Clubs\n",
      "9 of Clubs\n",
      "10 of Clubs\n",
      "Jack of Clubs\n",
      "Queen of Clubs\n",
      "King of Clubs\n",
      "Ace of Diamonds\n",
      "2 of Diamonds\n",
      "3 of Diamonds\n",
      "4 of Diamonds\n",
      "5 of Diamonds\n",
      "6 of Diamonds\n",
      "7 of Diamonds\n",
      "8 of Diamonds\n",
      "9 of Diamonds\n",
      "10 of Diamonds\n",
      "Jack of Diamonds\n",
      "Queen of Diamonds\n",
      "King of Diamonds\n",
      "Ace of Hearts\n",
      "2 of Hearts\n",
      "3 of Hearts\n",
      "4 of Hearts\n",
      "5 of Hearts\n",
      "6 of Hearts\n",
      "7 of Hearts\n",
      "8 of Hearts\n",
      "9 of Hearts\n",
      "10 of Hearts\n",
      "Jack of Hearts\n",
      "Queen of Hearts\n",
      "King of Hearts\n",
      "Ace of Spades\n",
      "2 of Spades\n",
      "3 of Spades\n",
      "4 of Spades\n",
      "5 of Spades\n",
      "6 of Spades\n",
      "7 of Spades\n",
      "8 of Spades\n",
      "9 of Spades\n",
      "10 of Spades\n",
      "Jack of Spades\n",
      "Queen of Spades\n",
      "King of Spades\n"
     ]
    }
   ],
   "source": [
    "\n",
    "import random   #libreria de python que se importa\n",
    "\n",
    "class Deck(object):\n",
    "    \n",
    "    def __init__(self):\n",
    "        self.cards = [Card(suit, rank) for suit in range(4) #cards ES EL ATRIBUTO DE MI OBJETO DECK, ARRAY CON TODAS LAS CARTAS\n",
    "                      for rank in range(1, 14)]\n",
    "        \n",
    "        \n",
    "        #abro corchete para GENERAR UNA LISTA y defino iteradores\n",
    "        #los elementos de la lista son cartas que se inicializan con pinta y numero y voy a iterar sobre un rango con esa pinta\n",
    "        #y voy a iterar con un rango con ese numero\n",
    "        \n",
    "        \"\"\"\n",
    "        self.cards = []\n",
    "        for suit in range(4):\n",
    "            for rank in range(1, 14):\n",
    "                card = Card(suit, rank)\n",
    "                self.cards.append(card)\n",
    "        \"\"\"\n",
    "        \n",
    "    def __str__(self):\n",
    "        res = [str(card) for card in self.cards]\n",
    "        return '{} Cards:\\n'.format(len(self.cards)) + '\\n'.join(res)    #join si tengo una lista, unifica en un solo string \n",
    "                                                                        #con el salto de linea que esta antes del join entre\n",
    "                                                                        #cada elemento que estoy uniendo\n",
    "    \n",
    "    def pop_card(self):\n",
    "        try:  \n",
    "            card = self.cards.pop()     #intentar sacar una carta y si no se puede\n",
    "                                        #asumo que la ultima carta es la primera y la saco de la lista\n",
    "                                        #pop es una funcion que me quita el ultimo elemeento de un string \n",
    "                \n",
    "        except IndexError:   #si no puede sacar una carta genera un error IdexError\n",
    "            card = None    #no saco mas cartas porque no hay e imprime que no quedan cartas\n",
    "            print('No cards in deck.')\n",
    "        return card    #IMPORTANTE RETORNO LA CARTA QUE SACO CON ESTE METODO Y DEJO EL MAZO CON ESA CARTA MENOS\n",
    "    \n",
    "    def add_card(self, card):\n",
    "        self.cards.append(card)      #agregar la carta a la lista. Pero AQUI ME DEJA AGREGAR CARTAS REPETIDAS\n",
    "        \n",
    "    def shuffle(self):\n",
    "        random.shuffle(self.cards)    #funcion de la libreria random, suffle toma la LISTA y la desordena ahi mismo\n",
    "                                     #modifica la ya existente\n",
    "        \n",
    "    # ------------------------------------------#\n",
    "    def move_cards(self, hand, num):      #num numero de cartas que quiero sacar\n",
    "        for i in range(num):\n",
    "            hand.add_card(self.pop_card())   #saca una carta con pop card de mi deck y la envie al metodo add card de otro\n",
    "                                                #objeto que es mi mano\n",
    "    \n",
    "    def deal_hands(self, n_hands, n_cards):\n",
    "        hands = []\n",
    "        \n",
    "        for i in range(n_hands):\n",
    "            new_hand = Hand()\n",
    "            self.move_cards(new_hand, n_cards)\n",
    "            hands.append(new_hand)\n",
    "        return hands\n",
    "    \n",
    "deck = Deck()\n",
    "# deck.shuffle()\n",
    "print(deck)"
   ]
  },
  {
   "cell_type": "code",
   "execution_count": 24,
   "metadata": {},
   "outputs": [
    {
     "name": "stdout",
     "output_type": "stream",
     "text": [
      "52 Cards:\n",
      "Ace of Clubs\n",
      "2 of Clubs\n",
      "3 of Clubs\n",
      "4 of Clubs\n",
      "5 of Clubs\n",
      "6 of Clubs\n",
      "7 of Clubs\n",
      "8 of Clubs\n",
      "9 of Clubs\n",
      "10 of Clubs\n",
      "Jack of Clubs\n",
      "Queen of Clubs\n",
      "King of Clubs\n",
      "Ace of Diamonds\n",
      "2 of Diamonds\n",
      "3 of Diamonds\n",
      "4 of Diamonds\n",
      "5 of Diamonds\n",
      "6 of Diamonds\n",
      "7 of Diamonds\n",
      "8 of Diamonds\n",
      "9 of Diamonds\n",
      "10 of Diamonds\n",
      "Jack of Diamonds\n",
      "Queen of Diamonds\n",
      "King of Diamonds\n",
      "Ace of Hearts\n",
      "2 of Hearts\n",
      "3 of Hearts\n",
      "4 of Hearts\n",
      "5 of Hearts\n",
      "6 of Hearts\n",
      "7 of Hearts\n",
      "8 of Hearts\n",
      "9 of Hearts\n",
      "10 of Hearts\n",
      "Jack of Hearts\n",
      "Queen of Hearts\n",
      "King of Hearts\n",
      "Ace of Spades\n",
      "2 of Spades\n",
      "3 of Spades\n",
      "4 of Spades\n",
      "5 of Spades\n",
      "6 of Spades\n",
      "7 of Spades\n",
      "8 of Spades\n",
      "9 of Spades\n",
      "10 of Spades\n",
      "Jack of Spades\n",
      "Queen of Spades\n",
      "King of Spades\n",
      "CARTA SACADA ES: Queen of Spades\n",
      "Nuevo deck es:\n",
      " 50 Cards:\n",
      "Ace of Clubs\n",
      "2 of Clubs\n",
      "3 of Clubs\n",
      "4 of Clubs\n",
      "5 of Clubs\n",
      "6 of Clubs\n",
      "7 of Clubs\n",
      "8 of Clubs\n",
      "9 of Clubs\n",
      "10 of Clubs\n",
      "Jack of Clubs\n",
      "Queen of Clubs\n",
      "King of Clubs\n",
      "Ace of Diamonds\n",
      "2 of Diamonds\n",
      "3 of Diamonds\n",
      "4 of Diamonds\n",
      "5 of Diamonds\n",
      "6 of Diamonds\n",
      "7 of Diamonds\n",
      "8 of Diamonds\n",
      "9 of Diamonds\n",
      "10 of Diamonds\n",
      "Jack of Diamonds\n",
      "Queen of Diamonds\n",
      "King of Diamonds\n",
      "Ace of Hearts\n",
      "2 of Hearts\n",
      "3 of Hearts\n",
      "4 of Hearts\n",
      "5 of Hearts\n",
      "6 of Hearts\n",
      "7 of Hearts\n",
      "8 of Hearts\n",
      "9 of Hearts\n",
      "10 of Hearts\n",
      "Jack of Hearts\n",
      "Queen of Hearts\n",
      "King of Hearts\n",
      "Ace of Spades\n",
      "2 of Spades\n",
      "3 of Spades\n",
      "4 of Spades\n",
      "5 of Spades\n",
      "6 of Spades\n",
      "7 of Spades\n",
      "8 of Spades\n",
      "9 of Spades\n",
      "10 of Spades\n",
      "Jack of Spades\n"
     ]
    }
   ],
   "source": [
    "#sacar carta\n",
    "deck=Deck()\n",
    "print(deck)\n",
    "deck.pop_card()  #saco la carta pero la visualizo como un espacio de memoria\n",
    "print(\"CARTA SACADA ES:\", deck.pop_card()) #saco la carta y la visualizo bien\n",
    "#escribi dos veces el codigo saque dos cartas\n",
    "\n",
    "print(\"Nuevo deck es:\\n\", deck)"
   ]
  },
  {
   "cell_type": "code",
   "execution_count": 9,
   "metadata": {},
   "outputs": [
    {
     "name": "stdout",
     "output_type": "stream",
     "text": [
      "37 Cards:\n",
      "Ace of Clubs\n",
      "2 of Clubs\n",
      "3 of Clubs\n",
      "4 of Clubs\n",
      "5 of Clubs\n",
      "6 of Clubs\n",
      "7 of Clubs\n",
      "8 of Clubs\n",
      "9 of Clubs\n",
      "10 of Clubs\n",
      "Jack of Clubs\n",
      "Queen of Clubs\n",
      "King of Clubs\n",
      "Ace of Diamonds\n",
      "2 of Diamonds\n",
      "3 of Diamonds\n",
      "4 of Diamonds\n",
      "5 of Diamonds\n",
      "6 of Diamonds\n",
      "7 of Diamonds\n",
      "8 of Diamonds\n",
      "9 of Diamonds\n",
      "10 of Diamonds\n",
      "Jack of Diamonds\n",
      "Queen of Diamonds\n",
      "King of Diamonds\n",
      "Ace of Hearts\n",
      "2 of Hearts\n",
      "3 of Hearts\n",
      "4 of Hearts\n",
      "5 of Hearts\n",
      "6 of Hearts\n",
      "7 of Hearts\n",
      "8 of Hearts\n",
      "9 of Hearts\n",
      "10 of Hearts\n",
      "Jack of Hearts\n"
     ]
    }
   ],
   "source": [
    "for i in range(15):\n",
    "    deck.pop_card()    #AL objeto deck que es de la clase Deck le llamo el metodo .pop_card()\n",
    "print(deck)\n"
   ]
  },
  {
   "cell_type": "code",
   "execution_count": 25,
   "metadata": {
    "scrolled": false
   },
   "outputs": [
    {
     "name": "stdout",
     "output_type": "stream",
     "text": [
      "50 Cards:\n",
      "5 of Clubs\n",
      "3 of Spades\n",
      "7 of Spades\n",
      "Ace of Diamonds\n",
      "Jack of Spades\n",
      "4 of Spades\n",
      "2 of Diamonds\n",
      "7 of Diamonds\n",
      "8 of Clubs\n",
      "4 of Clubs\n",
      "4 of Diamonds\n",
      "9 of Hearts\n",
      "Jack of Clubs\n",
      "Queen of Diamonds\n",
      "10 of Clubs\n",
      "6 of Clubs\n",
      "10 of Spades\n",
      "6 of Hearts\n",
      "Queen of Clubs\n",
      "6 of Diamonds\n",
      "3 of Clubs\n",
      "7 of Hearts\n",
      "3 of Hearts\n",
      "3 of Diamonds\n",
      "2 of Clubs\n",
      "7 of Clubs\n",
      "9 of Diamonds\n",
      "5 of Hearts\n",
      "10 of Hearts\n",
      "Ace of Spades\n",
      "8 of Spades\n",
      "2 of Spades\n",
      "8 of Hearts\n",
      "4 of Hearts\n",
      "9 of Spades\n",
      "10 of Diamonds\n",
      "Jack of Hearts\n",
      "Queen of Hearts\n",
      "Ace of Clubs\n",
      "5 of Diamonds\n",
      "5 of Spades\n",
      "9 of Clubs\n",
      "Ace of Hearts\n",
      "8 of Diamonds\n",
      "King of Diamonds\n",
      "King of Clubs\n",
      "King of Hearts\n",
      "6 of Spades\n",
      "Jack of Diamonds\n",
      "2 of Hearts\n"
     ]
    }
   ],
   "source": [
    "#reordenar\n",
    "deck.shuffle()\n",
    "print(deck)"
   ]
  },
  {
   "cell_type": "code",
   "execution_count": 11,
   "metadata": {
    "scrolled": true
   },
   "outputs": [
    {
     "name": "stdout",
     "output_type": "stream",
     "text": [
      "Ace of Spades\n",
      "38 Cards:\n",
      "10 of Hearts\n",
      "6 of Diamonds\n",
      "2 of Hearts\n",
      "Jack of Hearts\n",
      "6 of Clubs\n",
      "5 of Clubs\n",
      "Ace of Diamonds\n",
      "King of Diamonds\n",
      "9 of Diamonds\n",
      "10 of Clubs\n",
      "4 of Clubs\n",
      "7 of Hearts\n",
      "6 of Hearts\n",
      "4 of Diamonds\n",
      "4 of Hearts\n",
      "7 of Clubs\n",
      "9 of Clubs\n",
      "3 of Hearts\n",
      "3 of Diamonds\n",
      "7 of Diamonds\n",
      "2 of Diamonds\n",
      "8 of Hearts\n",
      "Jack of Clubs\n",
      "8 of Clubs\n",
      "Ace of Hearts\n",
      "10 of Diamonds\n",
      "5 of Diamonds\n",
      "Jack of Diamonds\n",
      "Queen of Clubs\n",
      "9 of Hearts\n",
      "Ace of Clubs\n",
      "King of Clubs\n",
      "3 of Clubs\n",
      "8 of Diamonds\n",
      "5 of Hearts\n",
      "Queen of Diamonds\n",
      "2 of Clubs\n",
      "Ace of Spades\n"
     ]
    }
   ],
   "source": [
    "#agregar\n",
    "carta_agregar=Card(3,1)\n",
    "print(carta_agregar)\n",
    "#agregar\n",
    "deck.add_card(carta_agregar)\n",
    "\n",
    "print(deck)"
   ]
  },
  {
   "cell_type": "code",
   "execution_count": 12,
   "metadata": {},
   "outputs": [
    {
     "name": "stdout",
     "output_type": "stream",
     "text": [
      "Ace of Clubs\n"
     ]
    }
   ],
   "source": [
    "print(Card(0,1))"
   ]
  },
  {
   "cell_type": "code",
   "execution_count": 13,
   "metadata": {
    "scrolled": true
   },
   "outputs": [
    {
     "name": "stdout",
     "output_type": "stream",
     "text": [
      "39 Cards:\n",
      "10 of Hearts\n",
      "6 of Diamonds\n",
      "2 of Hearts\n",
      "Jack of Hearts\n",
      "6 of Clubs\n",
      "5 of Clubs\n",
      "Ace of Diamonds\n",
      "King of Diamonds\n",
      "9 of Diamonds\n",
      "10 of Clubs\n",
      "4 of Clubs\n",
      "7 of Hearts\n",
      "6 of Hearts\n",
      "4 of Diamonds\n",
      "4 of Hearts\n",
      "7 of Clubs\n",
      "9 of Clubs\n",
      "3 of Hearts\n",
      "3 of Diamonds\n",
      "7 of Diamonds\n",
      "2 of Diamonds\n",
      "8 of Hearts\n",
      "Jack of Clubs\n",
      "8 of Clubs\n",
      "Ace of Hearts\n",
      "10 of Diamonds\n",
      "5 of Diamonds\n",
      "Jack of Diamonds\n",
      "Queen of Clubs\n",
      "9 of Hearts\n",
      "Ace of Clubs\n",
      "King of Clubs\n",
      "3 of Clubs\n",
      "8 of Diamonds\n",
      "5 of Hearts\n",
      "Queen of Diamonds\n",
      "2 of Clubs\n",
      "Ace of Spades\n",
      "Ace of Clubs\n"
     ]
    }
   ],
   "source": [
    "#agregar una repetida\n",
    "carta_repetida = Card(0,1)\n",
    "deck.add_card(carta_repetida)\n",
    "print(deck)"
   ]
  },
  {
   "cell_type": "code",
   "execution_count": 26,
   "metadata": {},
   "outputs": [],
   "source": [
    "class Hand(Deck):   #clase que se hedera de la anterior clase\n",
    "                    #CLASE HAND TIENE TODOS LOS METODOS DE LA CLASE DECK QUE DEFINI MAS ARRIBA\n",
    "        #quiero que la mano empieze vacia \n",
    "    \n",
    "    def __init__(self, label=\" \"):\n",
    "        self.cards = []   #empieza la mano vacia\n",
    "        self.label = label   #etiqueta para la mano\n",
    "    \n",
    "\n",
    "    def __repr__(self):\n",
    "        return '(' + ', '.join([str(card) for card in self.cards]) + ')'\n",
    "\n",
    "\n",
    "    "
   ]
  },
  {
   "cell_type": "code",
   "execution_count": 27,
   "metadata": {},
   "outputs": [
    {
     "name": "stdout",
     "output_type": "stream",
     "text": [
      "[(King of Spades, Queen of Spades, Jack of Spades, 10 of Spades, 9 of Spades), (8 of Spades, 7 of Spades, 6 of Spades, 5 of Spades, 4 of Spades), (3 of Spades, 2 of Spades, Ace of Spades, King of Hearts, Queen of Hearts), (Jack of Hearts, 10 of Hearts, 9 of Hearts, 8 of Hearts, 7 of Hearts)]\n",
      "\n",
      "CARTAS SOBRANTES EN EL DECK\n",
      "32 Cards:\n",
      "Ace of Clubs\n",
      "2 of Clubs\n",
      "3 of Clubs\n",
      "4 of Clubs\n",
      "5 of Clubs\n",
      "6 of Clubs\n",
      "7 of Clubs\n",
      "8 of Clubs\n",
      "9 of Clubs\n",
      "10 of Clubs\n",
      "Jack of Clubs\n",
      "Queen of Clubs\n",
      "King of Clubs\n",
      "Ace of Diamonds\n",
      "2 of Diamonds\n",
      "3 of Diamonds\n",
      "4 of Diamonds\n",
      "5 of Diamonds\n",
      "6 of Diamonds\n",
      "7 of Diamonds\n",
      "8 of Diamonds\n",
      "9 of Diamonds\n",
      "10 of Diamonds\n",
      "Jack of Diamonds\n",
      "Queen of Diamonds\n",
      "King of Diamonds\n",
      "Ace of Hearts\n",
      "2 of Hearts\n",
      "3 of Hearts\n",
      "4 of Hearts\n",
      "5 of Hearts\n",
      "6 of Hearts\n"
     ]
    }
   ],
   "source": [
    "deck = Deck()\n",
    "hands = deck.deal_hands(4,5)\n",
    "print(hands)\n",
    "\n",
    "print(\"\\nCARTAS SOBRANTES EN EL DECK\")\n",
    "print(deck)"
   ]
  },
  {
   "cell_type": "code",
   "execution_count": 16,
   "metadata": {},
   "outputs": [
    {
     "name": "stdout",
     "output_type": "stream",
     "text": [
      "Alice <al@kth.se>\n",
      "Lv 24\n",
      "Sthlm\n",
      "\n",
      "Unknown Carol\n"
     ]
    }
   ],
   "source": [
    "\n",
    "class Address:\n",
    "    def __init__(self, street, city):\n",
    "        self.street = str(street)\n",
    "        self.city = str(city)\n",
    "    def show(self):\n",
    "        print(self.street)\n",
    "        print(self.city)\n",
    "\n",
    "class Person:\n",
    "    def __init__(self, name, email):\n",
    "        self.name = str(name)\n",
    "        self.email= str(email)\n",
    "    def show(self):\n",
    "        print(self.name + ' ' + self.email)\n",
    "\n",
    "class Contact(Person, Address):\n",
    "    def __init__(self, name, email, street, city):\n",
    "        Person.__init__(self, name, email)   #accedo a los metodos constructores de la clase persona\n",
    "        Address.__init__(self, street, city)\n",
    "    def show(self):    #tengo dos metodos show de cada clase\n",
    "                        #redefino el metodo y llamo directamente a los metodos de las clases padre\n",
    "        Person.show(self)\n",
    "        Address.show(self)\n",
    "        print()\n",
    "\n",
    "class Notebook:\n",
    "    people = dict()\n",
    "    def add(self, name, email, street, city):\n",
    "        self.people[name] = Contact(name, email, street, city)\n",
    "    def show(self, name):\n",
    "        if name in self.people:\n",
    "            self.people[name].show()   #A CUAL SHOW APUNTA?\n",
    "        else:\n",
    "            print('Unknown', name)\n",
    "\n",
    "notes = Notebook()\n",
    "notes.add('Alice', '<al@kth.se>', 'Lv 24', 'Sthlm')\n",
    "notes.add('Bob', '<bb@kth.se>', 'Rtb 35', 'Sthlm')\n",
    "\n",
    "notes.show('Alice')\n",
    "notes.show('Carol')"
   ]
  },
  {
   "cell_type": "markdown",
   "metadata": {},
   "source": [
    "# Encapsulation"
   ]
  },
  {
   "cell_type": "code",
   "execution_count": 28,
   "metadata": {},
   "outputs": [],
   "source": [
    "class Person:\n",
    "    def __init__(self, age):\n",
    "        self.__age = age  #doble guion abajo, queremos que sea un atributo privado y que solo se pueda modificar\n",
    "                            #desde los metodos que estan en la clase\n",
    "    def get_age(self):\n",
    "        return self.__age\n",
    "    def set_age(self, age):\n",
    "        self.__age = int(age)\n",
    "        \n"
   ]
  },
  {
   "cell_type": "code",
   "execution_count": 32,
   "metadata": {},
   "outputs": [
    {
     "name": "stdout",
     "output_type": "stream",
     "text": [
      "20\n",
      "Modifico la edad llamando el atributo\n",
      "20\n"
     ]
    },
    {
     "data": {
      "text/plain": [
       "int"
      ]
     },
     "execution_count": 32,
     "metadata": {},
     "output_type": "execute_result"
    }
   ],
   "source": [
    "person1 = Person(20)\n",
    "print(person1.get_age())\n",
    "\n",
    "print(\"Modifico la edad llamando el atributo\")\n",
    "person1.__age = 30\n",
    "print(person1.get_age())\n",
    "\n",
    "type(person1.get_age())"
   ]
  },
  {
   "cell_type": "code",
   "execution_count": 30,
   "metadata": {},
   "outputs": [
    {
     "name": "stdout",
     "output_type": "stream",
     "text": [
      "21\n",
      "modificar la edad a 30\n",
      "30\n"
     ]
    }
   ],
   "source": [
    "class Persona:\n",
    "    def __init__(self,edad):\n",
    "        self.edad = edad\n",
    "    def obtener_edad(self):\n",
    "        return self.edad\n",
    "\n",
    "juan=Persona(21)\n",
    "print(juan.obtener_edad())\n",
    "\n",
    "print(\"modificar la edad a 30\")\n",
    "juan.edad = 30\n",
    "print(juan.obtener_edad())\n"
   ]
  },
  {
   "cell_type": "markdown",
   "metadata": {},
   "source": [
    "# A Simple Linear Regression Class"
   ]
  },
  {
   "cell_type": "code",
   "execution_count": 35,
   "metadata": {},
   "outputs": [],
   "source": [
    "class SimpleLinearRegression(object):\n",
    "    \n",
    "    def __init__(self, name='Simple Linear Regression'):\n",
    "        self.name = name\n",
    "        self.a = None\n",
    "        self.b = None\n",
    "        \n",
    "    def __str__(self):  #represenacion en string\n",
    "        return name   #name es un string no tengo que cambiar nada\n",
    "        \n",
    "    def fit(self, x, y):   #metodo fit, paso un X, matriz de experimento, variables explicativas\n",
    "                            #y es la variable explicada\n",
    "                            #metodo fit es para ajustar modelos\n",
    "        \n",
    "        n = len(x)\n",
    "        xsum = 0\n",
    "        ysum = 0\n",
    "        xsq = 0\n",
    "        s = 0\n",
    "\n",
    "        for i in range(n):\n",
    "\n",
    "            xsum += x[i]\n",
    "            ysum += y[i]\n",
    "            xsq += x[i] ** 2\n",
    "            s += x[i] * y[i]\n",
    "\n",
    "        xmean = xsum / n\n",
    "        ymean = ysum / n\n",
    "\n",
    "        self.b = (n * s - xsum * ysum) / (n * xsq - xsum ** 2)\n",
    "        self.a = ymean - self.b * xmean   #se guardan los parametros en self.a y self.b, los parametros estimados estan dentro \n",
    "                                            #del objeto\n",
    "    \n",
    "    def predict(self, x):      \n",
    "        \n",
    "        y_pred = []\n",
    "        \n",
    "        for xi in x:\n",
    "            y_predi = self.a + self.b * xi\n",
    "            y_pred.append(y_predi)\n",
    "        return y_pred\n",
    "    \n",
    "    def coefficients(self):\n",
    "        return self.a, self.b"
   ]
  },
  {
   "cell_type": "code",
   "execution_count": 43,
   "metadata": {},
   "outputs": [
    {
     "name": "stdout",
     "output_type": "stream",
     "text": [
      "Y predicho\n",
      " [0.8749999999999998, 1.6785714285714284, 2.4821428571428568, 3.2857142857142856, 4.089285714285714, 4.892857142857142, 5.696428571428571]\n",
      "\n",
      "coeficientes\n"
     ]
    },
    {
     "data": {
      "text/plain": [
       "(0.07142857142857117, 0.8035714285714286)"
      ]
     },
     "execution_count": 43,
     "metadata": {},
     "output_type": "execute_result"
    }
   ],
   "source": [
    "x = [1, 2, 3, 4, 5, 6, 7]\n",
    "y = [0.5, 2.5, 2, 4, 2.5, 6, 5.5]\n",
    "\n",
    "model = SimpleLinearRegression()\n",
    "model.fit(x, y)\n",
    "model.predict(x)\n",
    "\n",
    "print(\"Y predicho\\n\",model.predict(x))\n",
    "print(\"\\ncoeficientes\")\n",
    "model.coefficients()"
   ]
  },
  {
   "cell_type": "code",
   "execution_count": 12,
   "metadata": {},
   "outputs": [
    {
     "name": "stdout",
     "output_type": "stream",
     "text": [
      "(0.07142857142857117, 0.8035714285714286)\n"
     ]
    }
   ],
   "source": [
    "print(model.coefficients())"
   ]
  },
  {
   "cell_type": "markdown",
   "metadata": {},
   "source": [
    "# Multiple Linear Regression - Scikit-Learn API"
   ]
  },
  {
   "cell_type": "markdown",
   "metadata": {},
   "source": [
    "$$(X^{T}X)^{-1}X^{T}y$$"
   ]
  },
  {
   "cell_type": "code",
   "execution_count": null,
   "metadata": {},
   "outputs": [],
   "source": [
    "import numpy as np\n",
    "\n",
    "class LinearRegression(object):\n",
    "\n",
    "    def __init__(self, fit_intercept=True, name='Linear Regression Model'):\n",
    "        \n",
    "        self.fit_intercept = fit_intercept\n",
    "        self.name = name\n",
    "        self.__estimated_coefficients = None\n",
    "        \n",
    "    def fit(self, X, y):\n",
    "        \n",
    "        m, n = X.shape\n",
    "        if self.fit_intercept:\n",
    "            X_aug = np.concatenate([np.ones((m, 1)), X], axis=1)\n",
    "        self.__estimated_coefficients = np.linalg.inv(X_aug.T @ X_aug) @ X_aug.T @ y\n",
    "    \n",
    "    def predict(self, X):\n",
    "        \n",
    "        m, n = X.shape\n",
    "        \n",
    "        if self.fit_intercept:\n",
    "            X_aug = np.concatenate([np.ones((m, 1)), X], axis=1)\n",
    "        return X_aug @ self.__estimated_coefficients\n",
    "    \n",
    "    def get_coefficients(self):\n",
    "        return self.__estimated_coefficients"
   ]
  },
  {
   "cell_type": "markdown",
   "metadata": {},
   "source": [
    "# Scikit-learn"
   ]
  },
  {
   "cell_type": "code",
   "execution_count": null,
   "metadata": {},
   "outputs": [],
   "source": []
  }
 ],
 "metadata": {
  "kernelspec": {
   "display_name": "Python 3",
   "language": "python",
   "name": "python3"
  },
  "language_info": {
   "codemirror_mode": {
    "name": "ipython",
    "version": 3
   },
   "file_extension": ".py",
   "mimetype": "text/x-python",
   "name": "python",
   "nbconvert_exporter": "python",
   "pygments_lexer": "ipython3",
   "version": "3.7.1"
  }
 },
 "nbformat": 4,
 "nbformat_minor": 2
}
