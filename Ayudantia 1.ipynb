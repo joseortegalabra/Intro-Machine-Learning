{
 "cells": [
  {
   "cell_type": "markdown",
   "metadata": {},
   "source": [
    "### Ajustar regresion lineal\n"
   ]
  },
  {
   "cell_type": "code",
   "execution_count": 1,
   "metadata": {},
   "outputs": [],
   "source": [
    "#len() largo de un arreglo\n",
    "\n",
    "#xsum = xsum + x[i]\n",
    "#xsum += x[i]    es lo mismo que el anterior, la variable de la izquierda se incrementa por la de la derecha acumulandolo\n",
    "\n",
    "#y = [] SON LISTAS, NO VECTORES"
   ]
  },
  {
   "cell_type": "markdown",
   "metadata": {},
   "source": [
    "Simple Linear Regression\n",
    "$$y = a + bx + e$$\n",
    "Estimate $a$ and $b$ with normal equations:\n",
    "\n",
    "$$b = \\frac{n\\sum{x_{i}y_{i} - \\sum{x_{i}}\\sum{y_{i}}}}{n\\sum{x_{i}^{2}} - (\\sum{x_{i}})^{2}}$$$$a = \\bar{y} - b\\bar{x}$$\n",
    "We need to compute:\n",
    "\n",
    "$\\sum{x_{i}}$\n",
    "\n",
    "$\\sum{y_{i}}$\n",
    "\n",
    "$\\sum{x_{i}^{2}}$\n",
    "\n",
    "$\\sum{x_{i}y_{i}}$\n",
    "\n",
    "Our dataset:\n",
    "\n",
    "x = [1, 2, 3, 4, 5, 6, 7]\n",
    "\n",
    "y = [0.5, 2.5, 2, 4, 2.5, 6, 5.5]"
   ]
  },
  {
   "cell_type": "code",
   "execution_count": 2,
   "metadata": {},
   "outputs": [
    {
     "name": "stdout",
     "output_type": "stream",
     "text": [
      "[1, 2, 3, 4, 5, 6, 7]\n",
      "[0.5, 2.5, 2, 4, 2.5, 6, 5.5]\n"
     ]
    },
    {
     "data": {
      "text/plain": [
       "<matplotlib.collections.PathCollection at 0x21af58ca390>"
      ]
     },
     "execution_count": 2,
     "metadata": {},
     "output_type": "execute_result"
    }
   ],
   "source": [
    "import matplotlib.pyplot as plt\n",
    "x = [1, 2, 3, 4 ,5, 6, 7]\n",
    "y = [0.5, 2.5, 2, 4, 2.5, 6, 5.5]\n",
    "print(x)\n",
    "print(y)\n",
    "plt.figure(figsize=(12, 7))  #crea la tabla de esas dimensiones\n",
    "plt.scatter(x,y) #grafica solo los puntos de x e y, y si quisiera que quedaran como una linea los hace feos.\n",
    "#SIRVE PARA GRAFICAR PUNTOS"
   ]
  },
  {
   "cell_type": "code",
   "execution_count": 3,
   "metadata": {},
   "outputs": [
    {
     "name": "stdout",
     "output_type": "stream",
     "text": [
      "Sum of x:  28\n",
      "Sum of y:  23.0\n",
      "Sum of x ** 2:  140\n",
      "Sum of x * y:  114.5\n",
      "Estimated Function: y = 0.07 + 0.80x\n",
      "\n",
      "\n",
      "Coeficiente a, con todos los decimales: 0.07142857142857117\n",
      "\n",
      "\n",
      " 8.107142857142858\n"
     ]
    }
   ],
   "source": [
    "def least_squares(x, y):\n",
    "    n = len(x)\n",
    "    xsum = 0\n",
    "    ysum = 0\n",
    "    xsq = 0\n",
    "    s = 0\n",
    "    \n",
    "    for i in range(n):\n",
    "        xsum = xsum + x[i]  \n",
    "        ysum = ysum + y[i]\n",
    "        xsq += x[i] ** 2    #para acumular la sumatoria, ES LO MISMO QUE LA OTRA FORMA\n",
    "        s += x[i] * y[i]\n",
    "    \n",
    "    print(\"Sum of x: \", xsum)\n",
    "    print(\"Sum of y: \", ysum)\n",
    "    print(\"Sum of x ** 2: \", xsq)\n",
    "    print(\"Sum of x * y: \", s)\n",
    "    \n",
    "    xmean = xsum / n\n",
    "    ymean = ysum / n\n",
    "    \n",
    "    b = (n * s - xsum * ysum) / (n * xsq - xsum ** 2)      \n",
    "    a = ymean - b * xmean\n",
    "    print('Estimated Function: y = {:.2f} + {:.2f}x'.format(a, b)) # .2f   para poner 2 decimales y que sea un float\n",
    "      #funcion format sirve incluso para pasar diccionarios a formato y las llaves son la clave a lo que apunta.\n",
    "        #.format SE ENCARGA DE PONER EN LAS LLAVES LOS VALORES QUE SE LE PASAN\n",
    "    \n",
    "    return a, b       #return a y b no es necesario que sea el mismo nombre en el codigo global\n",
    "\n",
    "\n",
    "\n",
    "#ACABA LA FUNCION\n",
    "\n",
    "x = [1, 2, 3, 4, 5, 6, 7]\n",
    "y = [0.5, 2.5, 2, 4, 2.5, 6, 5.5]\n",
    "\n",
    "a, b = least_squares(x, y)\n",
    "print(\"\\n\\nCoeficiente a, con todos los decimales:\",a)\n",
    "\n",
    "\n",
    "x0 = 10\n",
    "y0 = a + b*x0\n",
    "print(\"\\n\\n\",y0)"
   ]
  },
  {
   "cell_type": "markdown",
   "metadata": {},
   "source": [
    "# Newton - Raphson\n",
    "$$x_{n + 1} = x_{n} - \\frac{f(x_{n})}{f'(x_{n})}$$\n",
    "We need:\n",
    "\n",
    "The function.\n",
    "The derivative.\n",
    "An epsilon.\n",
    "A starting point.\n",
    "$$f(x) = x^{2} - 4x -7$$"
   ]
  },
  {
   "cell_type": "code",
   "execution_count": 4,
   "metadata": {},
   "outputs": [],
   "source": [
    "import numpy as np\n",
    "import matplotlib.pyplot as plt"
   ]
  },
  {
   "cell_type": "code",
   "execution_count": 5,
   "metadata": {},
   "outputs": [
    {
     "data": {
      "text/plain": [
       "[<matplotlib.lines.Line2D at 0x21af4c0ef28>]"
      ]
     },
     "execution_count": 5,
     "metadata": {},
     "output_type": "execute_result"
    },
    {
     "data": {
      "image/png": "[encoded data removed]",
      "text/plain": [
       "<Figure size 432x288 with 1 Axes>"
      ]
     },
     "metadata": {
      "needs_background": "light"
     },
     "output_type": "display_data"
    }
   ],
   "source": [
    "f = lambda x: x ** 2 - 4 * x - 7    #espera una variable y un set de valores y una funcion. lambda para definir polinomios\n",
    "                                    #funciones exponenciales, funciones matematicas sencillas.\n",
    "\n",
    "\n",
    "    \n",
    "#FUNCION LAMBDA funcion anonima, sin definir def\n",
    "#su contenido es una unica expresion en vez de un conjunto de expresiones\n",
    "#funcion anonima que le paso un valor x y hace algo con ese valor x\n",
    "\n",
    "#En ves de usar lambda podria haber definido esta funcion\n",
    "#def f(x):\n",
    "    #return x**2-4*x-7\n",
    "    \n",
    "\n",
    "df = lambda x: 2 * x - 4    #hago la derivada de forma manual y defino una nueva funcion para evaluar los valores\n",
    "\n",
    "x = np.linspace(-10, 10, 100)\n",
    "y = f(x)\n",
    "plt.plot(x, y)  #SIRVE PARA GRAFICAR LINEAS y que queden como lineas y no un conjunto de puntos\n",
    "\n"
   ]
  },
  {
   "cell_type": "code",
   "execution_count": 6,
   "metadata": {},
   "outputs": [],
   "source": [
    "# se define un epslon muy pequeño, como criterio de termino.\n",
    "\n",
    "\n",
    "# se utiliza un while, porque no sabemos cuantas iteraciones necesarias para llegar al optimo. criterio de termino cuando \n",
    "# no se cumpla el criterio del while\n",
    "\n",
    "#mientras el valor absoluto  de f(x) sea mayor al epsilon la solucion no es lo suficientemente buena y se sigue iterando\n"
   ]
  },
  {
   "cell_type": "code",
   "execution_count": 7,
   "metadata": {},
   "outputs": [
    {
     "name": "stdout",
     "output_type": "stream",
     "text": [
      "The method converged to -1.3173802020319245 in 4 iterations. (epsilon = 0.01)\n"
     ]
    },
    {
     "data": {
      "text/plain": [
       "-1.3173802020319245"
      ]
     },
     "execution_count": 7,
     "metadata": {},
     "output_type": "execute_result"
    }
   ],
   "source": [
    "def newton_raphson(f, df, epsilon, x0):\n",
    "    x = x0\n",
    "    i = 0\n",
    "    while abs(f(x)) > epsilon:\n",
    "        x = x - f(x)/df(x)\n",
    "        i += 1\n",
    "        \n",
    "    print(\"The method converged to {} in {} iterations. (epsilon = {})\".format(x, i, epsilon)) #.format para pasar imprimir \n",
    "                                                                                                #los datos \n",
    "    return x\n",
    "\n",
    "\n",
    "\n",
    "#ejecutar el algoritmo, x0 punto de partida\n",
    "\n",
    "newton_raphson(f, df, 0.01, -10)"
   ]
  },
  {
   "cell_type": "code",
   "execution_count": 8,
   "metadata": {},
   "outputs": [
    {
     "name": "stdout",
     "output_type": "stream",
     "text": [
      "The method converged to -1.3173802020319245 in 4 iterations. (epsilon = 0.01)\n"
     ]
    },
    {
     "data": {
      "text/plain": [
       "-1.3173802020319245"
      ]
     },
     "execution_count": 8,
     "metadata": {},
     "output_type": "execute_result"
    }
   ],
   "source": [
    "# SI NO LE PASO UN VALOR, python asigna un valor por defecto. Los que tiene un valor por defecto se ponen al final.\n",
    "#POR LO TANTO EN LA FUNCION AL LLAMARLA NO ES NECESARIO PEDIRLE UN PARAMETRO AL USUARIO\n",
    "# SON PARAMETROS OPCIONALES\n",
    "\n",
    "def newton_raphson(f, df, x0, epsilon=0.01):\n",
    "    x = x0\n",
    "    i = 0\n",
    "    while abs(f(x)) > epsilon:\n",
    "        x = x - f(x)/df(x)\n",
    "        i += 1\n",
    "        \n",
    "    print(\"The method converged to {} in {} iterations. (epsilon = {})\".format(x, i, epsilon))\n",
    "    return x\n",
    "\n",
    "\n",
    "\n",
    "#ejecutar el algoritmo, x0 punto de partida\n",
    "\n",
    "newton_raphson(f, df, -10)"
   ]
  },
  {
   "cell_type": "markdown",
   "metadata": {},
   "source": [
    "# The Secant Method\n",
    "$$x_{i + 1} = x_{i} - \\frac{f(x_{i - 1})(x_{i - 1} - x_{i}) }{f(x_{i - 1}) - f(x_{i})}$$\n",
    "$$f(x) = e^{-x} - x$$\n",
    "$x_{0} = 1$, $x_{-1} = 0$\n",
    "\n",
    "Function:\n",
    "\n",
    "def secant_method (f, x0, x_1):\n",
    "    // your code here\n",
    "    return x\n",
    "solution:\n",
    "\n",
    "x = [0.5, 0.5663110031972182, 0.5671431650348622, 0.5671432904097811, 0.5671432904097811]\n",
    "\n",
    "et = [100.0, 11.709290976662398, 0.14672870783743905, 2.2106391984397626e-05]"
   ]
  },
  {
   "cell_type": "code",
   "execution_count": 9,
   "metadata": {},
   "outputs": [
    {
     "name": "stdout",
     "output_type": "stream",
     "text": [
      "numero de euler:  2.718281828459045\n",
      "solucion metodo de la secante:  0.567394560401312\n"
     ]
    }
   ],
   "source": [
    "import numpy as np\n",
    "np.e  #numero de euler\n",
    "print(\"numero de euler: \",np.e)\n",
    "\n",
    "\n",
    "f = lambda x: np.e ** (-x) - x    #la funcion recibe un x, lo mismo que las funciones lambda anteriores\n",
    "\n",
    "\n",
    "def secant_method (f, x0 ,x_1, epsilon=0.001):\n",
    "    x = x0\n",
    "    while abs(f(x)) > epsilon:\n",
    "        \n",
    "        aux = x\n",
    "        x = x - (f(x_1) * (x_1-x)) / (f(x_1)-f(x))\n",
    "        x_1 = aux\n",
    "        \n",
    "    return (x)\n",
    "    \n",
    "print(\"solucion metodo de la secante: \",secant_method(f,1,0))"
   ]
  },
  {
   "cell_type": "markdown",
   "metadata": {},
   "source": [
    "# PANDAS"
   ]
  },
  {
   "cell_type": "code",
   "execution_count": 10,
   "metadata": {},
   "outputs": [],
   "source": [
    "import pandas as pd"
   ]
  },
  {
   "cell_type": "markdown",
   "metadata": {},
   "source": [
    "Import functions:\n",
    "\n",
    "pd.import_csv()\n",
    "pd.import_excel()\n",
    "Datasets:\n",
    "\n",
    "Boston Crimes Dataset (ISO-8859-1): crimes.csv\n",
    "Google Reads Books: books.csv"
   ]
  },
  {
   "cell_type": "code",
   "execution_count": 11,
   "metadata": {},
   "outputs": [],
   "source": [
    "# pd.import_csv()   separado por coma\n",
    "#pd.import_excel()    desde excel"
   ]
  },
  {
   "cell_type": "code",
   "execution_count": 12,
   "metadata": {},
   "outputs": [],
   "source": [
    "boston = pd.read_csv('data/crime.csv', encoding='ISO-8859-1') #leer la base de datos a partir de un csv y le pongo nombre boston\n"
   ]
  },
  {
   "cell_type": "code",
   "execution_count": 13,
   "metadata": {},
   "outputs": [
    {
     "data": {
      "text/html": [
       "<div>\n",
       "<style scoped>\n",
       "    .dataframe tbody tr th:only-of-type {\n",
       "        vertical-align: middle;\n",
       "    }\n",
       "\n",
       "    .dataframe tbody tr th {\n",
       "        vertical-align: top;\n",
       "    }\n",
       "\n",
       "    .dataframe thead th {\n",
       "        text-align: right;\n",
       "    }\n",
       "</style>\n",
       "<table border=\"1\" class=\"dataframe\">\n",
       "  <thead>\n",
       "    <tr style=\"text-align: right;\">\n",
       "      <th></th>\n",
       "      <th>INCIDENT_NUMBER</th>\n",
       "      <th>OFFENSE_CODE</th>\n",
       "      <th>OFFENSE_CODE_GROUP</th>\n",
       "      <th>OFFENSE_DESCRIPTION</th>\n",
       "      <th>DISTRICT</th>\n",
       "      <th>REPORTING_AREA</th>\n",
       "      <th>SHOOTING</th>\n",
       "      <th>OCCURRED_ON_DATE</th>\n",
       "      <th>YEAR</th>\n",
       "      <th>MONTH</th>\n",
       "      <th>DAY_OF_WEEK</th>\n",
       "      <th>HOUR</th>\n",
       "      <th>UCR_PART</th>\n",
       "      <th>STREET</th>\n",
       "      <th>Lat</th>\n",
       "      <th>Long</th>\n",
       "      <th>Location</th>\n",
       "    </tr>\n",
       "  </thead>\n",
       "  <tbody>\n",
       "    <tr>\n",
       "      <th>0</th>\n",
       "      <td>I182070945</td>\n",
       "      <td>619</td>\n",
       "      <td>Larceny</td>\n",
       "      <td>LARCENY ALL OTHERS</td>\n",
       "      <td>D14</td>\n",
       "      <td>808</td>\n",
       "      <td>NaN</td>\n",
       "      <td>2018-09-02 13:00:00</td>\n",
       "      <td>2018</td>\n",
       "      <td>9</td>\n",
       "      <td>Sunday</td>\n",
       "      <td>13</td>\n",
       "      <td>Part One</td>\n",
       "      <td>LINCOLN ST</td>\n",
       "      <td>42.357791</td>\n",
       "      <td>-71.139371</td>\n",
       "      <td>(42.35779134, -71.13937053)</td>\n",
       "    </tr>\n",
       "    <tr>\n",
       "      <th>1</th>\n",
       "      <td>I182070943</td>\n",
       "      <td>1402</td>\n",
       "      <td>Vandalism</td>\n",
       "      <td>VANDALISM</td>\n",
       "      <td>C11</td>\n",
       "      <td>347</td>\n",
       "      <td>NaN</td>\n",
       "      <td>2018-08-21 00:00:00</td>\n",
       "      <td>2018</td>\n",
       "      <td>8</td>\n",
       "      <td>Tuesday</td>\n",
       "      <td>0</td>\n",
       "      <td>Part Two</td>\n",
       "      <td>HECLA ST</td>\n",
       "      <td>42.306821</td>\n",
       "      <td>-71.060300</td>\n",
       "      <td>(42.30682138, -71.06030035)</td>\n",
       "    </tr>\n",
       "    <tr>\n",
       "      <th>2</th>\n",
       "      <td>I182070941</td>\n",
       "      <td>3410</td>\n",
       "      <td>Towed</td>\n",
       "      <td>TOWED MOTOR VEHICLE</td>\n",
       "      <td>D4</td>\n",
       "      <td>151</td>\n",
       "      <td>NaN</td>\n",
       "      <td>2018-09-03 19:27:00</td>\n",
       "      <td>2018</td>\n",
       "      <td>9</td>\n",
       "      <td>Monday</td>\n",
       "      <td>19</td>\n",
       "      <td>Part Three</td>\n",
       "      <td>CAZENOVE ST</td>\n",
       "      <td>42.346589</td>\n",
       "      <td>-71.072429</td>\n",
       "      <td>(42.34658879, -71.07242943)</td>\n",
       "    </tr>\n",
       "    <tr>\n",
       "      <th>3</th>\n",
       "      <td>I182070940</td>\n",
       "      <td>3114</td>\n",
       "      <td>Investigate Property</td>\n",
       "      <td>INVESTIGATE PROPERTY</td>\n",
       "      <td>D4</td>\n",
       "      <td>272</td>\n",
       "      <td>NaN</td>\n",
       "      <td>2018-09-03 21:16:00</td>\n",
       "      <td>2018</td>\n",
       "      <td>9</td>\n",
       "      <td>Monday</td>\n",
       "      <td>21</td>\n",
       "      <td>Part Three</td>\n",
       "      <td>NEWCOMB ST</td>\n",
       "      <td>42.334182</td>\n",
       "      <td>-71.078664</td>\n",
       "      <td>(42.33418175, -71.07866441)</td>\n",
       "    </tr>\n",
       "    <tr>\n",
       "      <th>4</th>\n",
       "      <td>I182070938</td>\n",
       "      <td>3114</td>\n",
       "      <td>Investigate Property</td>\n",
       "      <td>INVESTIGATE PROPERTY</td>\n",
       "      <td>B3</td>\n",
       "      <td>421</td>\n",
       "      <td>NaN</td>\n",
       "      <td>2018-09-03 21:05:00</td>\n",
       "      <td>2018</td>\n",
       "      <td>9</td>\n",
       "      <td>Monday</td>\n",
       "      <td>21</td>\n",
       "      <td>Part Three</td>\n",
       "      <td>DELHI ST</td>\n",
       "      <td>42.275365</td>\n",
       "      <td>-71.090361</td>\n",
       "      <td>(42.27536542, -71.09036101)</td>\n",
       "    </tr>\n",
       "  </tbody>\n",
       "</table>\n",
       "</div>"
      ],
      "text/plain": [
       "  INCIDENT_NUMBER  OFFENSE_CODE    OFFENSE_CODE_GROUP   OFFENSE_DESCRIPTION  \\\n",
       "0      I182070945           619               Larceny    LARCENY ALL OTHERS   \n",
       "1      I182070943          1402             Vandalism             VANDALISM   \n",
       "2      I182070941          3410                 Towed   TOWED MOTOR VEHICLE   \n",
       "3      I182070940          3114  Investigate Property  INVESTIGATE PROPERTY   \n",
       "4      I182070938          3114  Investigate Property  INVESTIGATE PROPERTY   \n",
       "\n",
       "  DISTRICT REPORTING_AREA SHOOTING     OCCURRED_ON_DATE  YEAR  MONTH  \\\n",
       "0      D14            808      NaN  2018-09-02 13:00:00  2018      9   \n",
       "1      C11            347      NaN  2018-08-21 00:00:00  2018      8   \n",
       "2       D4            151      NaN  2018-09-03 19:27:00  2018      9   \n",
       "3       D4            272      NaN  2018-09-03 21:16:00  2018      9   \n",
       "4       B3            421      NaN  2018-09-03 21:05:00  2018      9   \n",
       "\n",
       "  DAY_OF_WEEK  HOUR    UCR_PART       STREET        Lat       Long  \\\n",
       "0      Sunday    13    Part One   LINCOLN ST  42.357791 -71.139371   \n",
       "1     Tuesday     0    Part Two     HECLA ST  42.306821 -71.060300   \n",
       "2      Monday    19  Part Three  CAZENOVE ST  42.346589 -71.072429   \n",
       "3      Monday    21  Part Three   NEWCOMB ST  42.334182 -71.078664   \n",
       "4      Monday    21  Part Three     DELHI ST  42.275365 -71.090361   \n",
       "\n",
       "                      Location  \n",
       "0  (42.35779134, -71.13937053)  \n",
       "1  (42.30682138, -71.06030035)  \n",
       "2  (42.34658879, -71.07242943)  \n",
       "3  (42.33418175, -71.07866441)  \n",
       "4  (42.27536542, -71.09036101)  "
      ]
     },
     "execution_count": 13,
     "metadata": {},
     "output_type": "execute_result"
    }
   ],
   "source": [
    "boston.head()\n"
   ]
  },
  {
   "cell_type": "code",
   "execution_count": 14,
   "metadata": {},
   "outputs": [
    {
     "name": "stdout",
     "output_type": "stream",
     "text": [
      "<class 'pandas.core.frame.DataFrame'>\n",
      "RangeIndex: 319073 entries, 0 to 319072\n",
      "Data columns (total 17 columns):\n",
      "INCIDENT_NUMBER        319073 non-null object\n",
      "OFFENSE_CODE           319073 non-null int64\n",
      "OFFENSE_CODE_GROUP     319073 non-null object\n",
      "OFFENSE_DESCRIPTION    319073 non-null object\n",
      "DISTRICT               317308 non-null object\n",
      "REPORTING_AREA         319073 non-null object\n",
      "SHOOTING               1019 non-null object\n",
      "OCCURRED_ON_DATE       319073 non-null object\n",
      "YEAR                   319073 non-null int64\n",
      "MONTH                  319073 non-null int64\n",
      "DAY_OF_WEEK            319073 non-null object\n",
      "HOUR                   319073 non-null int64\n",
      "UCR_PART               318983 non-null object\n",
      "STREET                 308202 non-null object\n",
      "Lat                    299074 non-null float64\n",
      "Long                   299074 non-null float64\n",
      "Location               319073 non-null object\n",
      "dtypes: float64(2), int64(4), object(11)\n",
      "memory usage: 41.4+ MB\n"
     ]
    }
   ],
   "source": [
    "boston.info()  # me muestra todos los valores que no son nan. Los que pyton reconoce como datos, hay algunos que no reconoce\n"
   ]
  },
  {
   "cell_type": "code",
   "execution_count": 15,
   "metadata": {},
   "outputs": [
    {
     "data": {
      "text/html": [
       "<div>\n",
       "<style scoped>\n",
       "    .dataframe tbody tr th:only-of-type {\n",
       "        vertical-align: middle;\n",
       "    }\n",
       "\n",
       "    .dataframe tbody tr th {\n",
       "        vertical-align: top;\n",
       "    }\n",
       "\n",
       "    .dataframe thead th {\n",
       "        text-align: right;\n",
       "    }\n",
       "</style>\n",
       "<table border=\"1\" class=\"dataframe\">\n",
       "  <thead>\n",
       "    <tr style=\"text-align: right;\">\n",
       "      <th></th>\n",
       "      <th>OFFENSE_CODE</th>\n",
       "      <th>YEAR</th>\n",
       "      <th>MONTH</th>\n",
       "      <th>HOUR</th>\n",
       "      <th>Lat</th>\n",
       "      <th>Long</th>\n",
       "    </tr>\n",
       "  </thead>\n",
       "  <tbody>\n",
       "    <tr>\n",
       "      <th>count</th>\n",
       "      <td>319073.000000</td>\n",
       "      <td>319073.000000</td>\n",
       "      <td>319073.000000</td>\n",
       "      <td>319073.000000</td>\n",
       "      <td>299074.000000</td>\n",
       "      <td>299074.000000</td>\n",
       "    </tr>\n",
       "    <tr>\n",
       "      <th>mean</th>\n",
       "      <td>2317.546956</td>\n",
       "      <td>2016.560586</td>\n",
       "      <td>6.609719</td>\n",
       "      <td>13.118205</td>\n",
       "      <td>42.214381</td>\n",
       "      <td>-70.908272</td>\n",
       "    </tr>\n",
       "    <tr>\n",
       "      <th>std</th>\n",
       "      <td>1185.285543</td>\n",
       "      <td>0.996344</td>\n",
       "      <td>3.273691</td>\n",
       "      <td>6.294205</td>\n",
       "      <td>2.159766</td>\n",
       "      <td>3.493618</td>\n",
       "    </tr>\n",
       "    <tr>\n",
       "      <th>min</th>\n",
       "      <td>111.000000</td>\n",
       "      <td>2015.000000</td>\n",
       "      <td>1.000000</td>\n",
       "      <td>0.000000</td>\n",
       "      <td>-1.000000</td>\n",
       "      <td>-71.178674</td>\n",
       "    </tr>\n",
       "    <tr>\n",
       "      <th>25%</th>\n",
       "      <td>1001.000000</td>\n",
       "      <td>2016.000000</td>\n",
       "      <td>4.000000</td>\n",
       "      <td>9.000000</td>\n",
       "      <td>42.297442</td>\n",
       "      <td>-71.097135</td>\n",
       "    </tr>\n",
       "    <tr>\n",
       "      <th>50%</th>\n",
       "      <td>2907.000000</td>\n",
       "      <td>2017.000000</td>\n",
       "      <td>7.000000</td>\n",
       "      <td>14.000000</td>\n",
       "      <td>42.325538</td>\n",
       "      <td>-71.077524</td>\n",
       "    </tr>\n",
       "    <tr>\n",
       "      <th>75%</th>\n",
       "      <td>3201.000000</td>\n",
       "      <td>2017.000000</td>\n",
       "      <td>9.000000</td>\n",
       "      <td>18.000000</td>\n",
       "      <td>42.348624</td>\n",
       "      <td>-71.062467</td>\n",
       "    </tr>\n",
       "    <tr>\n",
       "      <th>max</th>\n",
       "      <td>3831.000000</td>\n",
       "      <td>2018.000000</td>\n",
       "      <td>12.000000</td>\n",
       "      <td>23.000000</td>\n",
       "      <td>42.395042</td>\n",
       "      <td>-1.000000</td>\n",
       "    </tr>\n",
       "  </tbody>\n",
       "</table>\n",
       "</div>"
      ],
      "text/plain": [
       "        OFFENSE_CODE           YEAR          MONTH           HOUR  \\\n",
       "count  319073.000000  319073.000000  319073.000000  319073.000000   \n",
       "mean     2317.546956    2016.560586       6.609719      13.118205   \n",
       "std      1185.285543       0.996344       3.273691       6.294205   \n",
       "min       111.000000    2015.000000       1.000000       0.000000   \n",
       "25%      1001.000000    2016.000000       4.000000       9.000000   \n",
       "50%      2907.000000    2017.000000       7.000000      14.000000   \n",
       "75%      3201.000000    2017.000000       9.000000      18.000000   \n",
       "max      3831.000000    2018.000000      12.000000      23.000000   \n",
       "\n",
       "                 Lat           Long  \n",
       "count  299074.000000  299074.000000  \n",
       "mean       42.214381     -70.908272  \n",
       "std         2.159766       3.493618  \n",
       "min        -1.000000     -71.178674  \n",
       "25%        42.297442     -71.097135  \n",
       "50%        42.325538     -71.077524  \n",
       "75%        42.348624     -71.062467  \n",
       "max        42.395042      -1.000000  "
      ]
     },
     "execution_count": 15,
     "metadata": {},
     "output_type": "execute_result"
    }
   ],
   "source": [
    "boston.describe()   #estadisticas descriptivas de la base de datos"
   ]
  },
  {
   "cell_type": "code",
   "execution_count": 16,
   "metadata": {},
   "outputs": [
    {
     "data": {
      "text/plain": [
       "pandas.core.frame.DataFrame"
      ]
     },
     "execution_count": 16,
     "metadata": {},
     "output_type": "execute_result"
    }
   ],
   "source": [
    "type(boston)  # me dice que es un dataframe\n",
    "\n",
    "# Es la union de series, cada columna representa informacion que son del mismo tipo de dato,asi pandas indexa primero \n",
    "# por columna y no por fila, para mantener esa consistencia en los tipos de datos"
   ]
  },
  {
   "cell_type": "code",
   "execution_count": 17,
   "metadata": {},
   "outputs": [
    {
     "data": {
      "text/plain": [
       "0                                     LARCENY ALL OTHERS\n",
       "1                                              VANDALISM\n",
       "2                                    TOWED MOTOR VEHICLE\n",
       "3                                   INVESTIGATE PROPERTY\n",
       "4                                   INVESTIGATE PROPERTY\n",
       "5             M/V ACCIDENT INVOLVING PEDESTRIAN - INJURY\n",
       "6                                             AUTO THEFT\n",
       "7                                         VERBAL DISPUTE\n",
       "8                                       ROBBERY - STREET\n",
       "9                                         VERBAL DISPUTE\n",
       "10                                        VERBAL DISPUTE\n",
       "11                                  INVESTIGATE PROPERTY\n",
       "12                   FIRE REPORT - HOUSE, BUILDING, ETC.\n",
       "13                             THREATS TO DO BODILY HARM\n",
       "14                                       PROPERTY - LOST\n",
       "15                         SICK/INJURED/MEDICAL - PERSON\n",
       "16                                        VERBAL DISPUTE\n",
       "17                                   DEMONSTRATIONS/RIOT\n",
       "18                             THREATS TO DO BODILY HARM\n",
       "19                 LARCENY THEFT FROM MV - NON-ACCESSORY\n",
       "20                         SICK/INJURED/MEDICAL - PERSON\n",
       "21                                  M/V ACCIDENT - OTHER\n",
       "22                         SICK/INJURED/MEDICAL - PERSON\n",
       "23                        M/V ACCIDENT - PERSONAL INJURY\n",
       "24                     BURGLARY - RESIDENTIAL - NO FORCE\n",
       "25                 M/V - LEAVING SCENE - PROPERTY DAMAGE\n",
       "26                         SICK/INJURED/MEDICAL - PERSON\n",
       "27                              ASSAULT SIMPLE - BATTERY\n",
       "28                VIOL. OF RESTRAINING ORDER W NO ARREST\n",
       "29                   VAL - VIOLATION OF AUTO LAW - OTHER\n",
       "                               ...                      \n",
       "319043                                    WARRANT ARREST\n",
       "319044                   LARCENY SHOPLIFTING $50 TO $199\n",
       "319045                     ASSAULT & BATTERY D/W - OTHER\n",
       "319046                                    WARRANT ARREST\n",
       "319047                                    WARRANT ARREST\n",
       "319048                         LARCENY OTHER $200 & OVER\n",
       "319049                                    WARRANT ARREST\n",
       "319050                                 ASSAULT & BATTERY\n",
       "319051                                    WARRANT ARREST\n",
       "319052                         LARCENY OTHER $50 TO $199\n",
       "319053                                    WARRANT ARREST\n",
       "319054                                    WARRANT ARREST\n",
       "319055                        ROBBERY - UNARMED - STREET\n",
       "319056                                    WARRANT ARREST\n",
       "319057                   VAL - OPERATING AFTER REV/SUSP.\n",
       "319058                   VAL - OPERATING AFTER REV/SUSP.\n",
       "319059                                    WARRANT ARREST\n",
       "319060                                    WARRANT ARREST\n",
       "319061                     ASSAULT & BATTERY D/W - OTHER\n",
       "319062                                    WARRANT ARREST\n",
       "319063                                    WARRANT ARREST\n",
       "319064    DRUGS - POSS CLASS B - INTENT TO MFR DIST DISP\n",
       "319065              DRUGS - POSS CLASS B - COCAINE, ETC.\n",
       "319066       DRUGS - POSS CLASS D - INTENT MFR DIST DISP\n",
       "319067                                    WARRANT ARREST\n",
       "319068                                    WARRANT ARREST\n",
       "319069               MURDER, NON-NEGLIGIENT MANSLAUGHTER\n",
       "319070                                    WARRANT ARREST\n",
       "319071                                    WARRANT ARREST\n",
       "319072                                    WARRANT ARREST\n",
       "Name: OFFENSE_DESCRIPTION, Length: 319073, dtype: object"
      ]
     },
     "execution_count": 17,
     "metadata": {},
     "output_type": "execute_result"
    }
   ],
   "source": [
    "boston['OFFENSE_DESCRIPTION'] #me muestra los datos de esa columna, me selecciona solo esa columna"
   ]
  },
  {
   "cell_type": "code",
   "execution_count": 18,
   "metadata": {},
   "outputs": [
    {
     "ename": "AttributeError",
     "evalue": "'Series' object has no attribute 'value_count'",
     "output_type": "error",
     "traceback": [
      "\u001b[1;31m---------------------------------------------------------------------------\u001b[0m",
      "\u001b[1;31mAttributeError\u001b[0m                            Traceback (most recent call last)",
      "\u001b[1;32m<ipython-input-18-522f2a542a8b>\u001b[0m in \u001b[0;36m<module>\u001b[1;34m\u001b[0m\n\u001b[1;32m----> 1\u001b[1;33m \u001b[0mboston\u001b[0m\u001b[1;33m[\u001b[0m\u001b[1;34m'OFFENSE_DESCRIPTION'\u001b[0m\u001b[1;33m]\u001b[0m\u001b[1;33m.\u001b[0m\u001b[0mvalue_count\u001b[0m\u001b[1;33m(\u001b[0m\u001b[1;33m)\u001b[0m  \u001b[1;31m#value count es para objetos que sean series\u001b[0m\u001b[1;33m\u001b[0m\u001b[1;33m\u001b[0m\u001b[0m\n\u001b[0m\u001b[0;32m      2\u001b[0m \u001b[1;33m\u001b[0m\u001b[0m\n\u001b[0;32m      3\u001b[0m \u001b[1;31m#--------->   serie es un objeto, tiene una funcion value_count que esta definida dentro del objetivo y por eso la llamo\u001b[0m\u001b[1;33m\u001b[0m\u001b[1;33m\u001b[0m\u001b[1;33m\u001b[0m\u001b[0m\n\u001b[0;32m      4\u001b[0m \u001b[1;33m\u001b[0m\u001b[0m\n\u001b[0;32m      5\u001b[0m \u001b[1;31m#a poner .value_count digo que el objeto offense description haga eso\u001b[0m\u001b[1;33m\u001b[0m\u001b[1;33m\u001b[0m\u001b[1;33m\u001b[0m\u001b[0m\n",
      "\u001b[1;32m~\\Anaconda3\\lib\\site-packages\\pandas\\core\\generic.py\u001b[0m in \u001b[0;36m__getattr__\u001b[1;34m(self, name)\u001b[0m\n\u001b[0;32m   4374\u001b[0m             \u001b[1;32mif\u001b[0m \u001b[0mself\u001b[0m\u001b[1;33m.\u001b[0m\u001b[0m_info_axis\u001b[0m\u001b[1;33m.\u001b[0m\u001b[0m_can_hold_identifiers_and_holds_name\u001b[0m\u001b[1;33m(\u001b[0m\u001b[0mname\u001b[0m\u001b[1;33m)\u001b[0m\u001b[1;33m:\u001b[0m\u001b[1;33m\u001b[0m\u001b[1;33m\u001b[0m\u001b[0m\n\u001b[0;32m   4375\u001b[0m                 \u001b[1;32mreturn\u001b[0m \u001b[0mself\u001b[0m\u001b[1;33m[\u001b[0m\u001b[0mname\u001b[0m\u001b[1;33m]\u001b[0m\u001b[1;33m\u001b[0m\u001b[1;33m\u001b[0m\u001b[0m\n\u001b[1;32m-> 4376\u001b[1;33m             \u001b[1;32mreturn\u001b[0m \u001b[0mobject\u001b[0m\u001b[1;33m.\u001b[0m\u001b[0m__getattribute__\u001b[0m\u001b[1;33m(\u001b[0m\u001b[0mself\u001b[0m\u001b[1;33m,\u001b[0m \u001b[0mname\u001b[0m\u001b[1;33m)\u001b[0m\u001b[1;33m\u001b[0m\u001b[1;33m\u001b[0m\u001b[0m\n\u001b[0m\u001b[0;32m   4377\u001b[0m \u001b[1;33m\u001b[0m\u001b[0m\n\u001b[0;32m   4378\u001b[0m     \u001b[1;32mdef\u001b[0m \u001b[0m__setattr__\u001b[0m\u001b[1;33m(\u001b[0m\u001b[0mself\u001b[0m\u001b[1;33m,\u001b[0m \u001b[0mname\u001b[0m\u001b[1;33m,\u001b[0m \u001b[0mvalue\u001b[0m\u001b[1;33m)\u001b[0m\u001b[1;33m:\u001b[0m\u001b[1;33m\u001b[0m\u001b[1;33m\u001b[0m\u001b[0m\n",
      "\u001b[1;31mAttributeError\u001b[0m: 'Series' object has no attribute 'value_count'"
     ]
    }
   ],
   "source": [
    "boston['OFFENSE_DESCRIPTION'].value_count()  #value count es para objetos que sean series \n",
    "\n",
    "#--------->   serie es un objeto, tiene una funcion value_count que esta definida dentro del objetivo y por eso la llamo \n",
    "\n",
    "#a poner .value_count digo que el objeto offense description haga eso\n",
    "#en cambio sin poongo value_count(boston['OFFENSE_DESCRIPTION']) lo llamo como funcion\n",
    "\n",
    "#value count me cuenta la repeticion de datos no numericos"
   ]
  },
  {
   "cell_type": "code",
   "execution_count": null,
   "metadata": {},
   "outputs": [],
   "source": [
    "boston['OFFENSE_DESCRIPTION'].mean   #y llamo la media o std y llamo la desviacion estandar"
   ]
  },
  {
   "cell_type": "code",
   "execution_count": null,
   "metadata": {},
   "outputs": [],
   "source": [
    "boston['MONTH'].mean"
   ]
  },
  {
   "cell_type": "code",
   "execution_count": null,
   "metadata": {},
   "outputs": [],
   "source": []
  }
 ],
 "metadata": {
  "kernelspec": {
   "display_name": "Python 3",
   "language": "python",
   "name": "python3"
  },
  "language_info": {
   "codemirror_mode": {
    "name": "ipython",
    "version": 3
   },
   "file_extension": ".py",
   "mimetype": "text/x-python",
   "name": "python",
   "nbconvert_exporter": "python",
   "pygments_lexer": "ipython3",
   "version": "3.7.1"
  }
 },
 "nbformat": 4,
 "nbformat_minor": 2
}
